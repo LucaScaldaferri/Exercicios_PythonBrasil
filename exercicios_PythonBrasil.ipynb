{
  "nbformat": 4,
  "nbformat_minor": 0,
  "metadata": {
    "colab": {
      "provenance": [],
      "collapsed_sections": [
        "PjrvRA2L-Ssk",
        "hTjHWZzuuyh_",
        "W0udEwqz3zy5",
        "hHwvMjOnVQEp",
        "behkWQheGtyl",
        "d9Vus938p_z5",
        "cjvYdbX2Nj1j",
        "-UD8BDQ6ZLte"
      ]
    },
    "kernelspec": {
      "name": "python3",
      "display_name": "Python 3"
    },
    "language_info": {
      "name": "python"
    }
  },
  "cells": [
    {
      "cell_type": "markdown",
      "source": [
        "# 1. Estrutura Sequencial"
      ],
      "metadata": {
        "id": "PjrvRA2L-Ssk"
      }
    },
    {
      "cell_type": "code",
      "execution_count": null,
      "metadata": {
        "colab": {
          "base_uri": "https://localhost:8080/"
        },
        "id": "eN9BI5z885is",
        "outputId": "b6562073-7cac-4c59-f390-0d9c5b8dc10d"
      },
      "outputs": [
        {
          "output_type": "stream",
          "name": "stdout",
          "text": [
            "Alo mundo\n"
          ]
        }
      ],
      "source": [
        "#1 Faça um Programa que mostre a mensagem \"Alo mundo\" na tela.\n",
        "print('Alo mundo')"
      ]
    },
    {
      "cell_type": "code",
      "source": [
        "#2 Faça um Programa que peça um número e então mostre a mensagem O número informado foi [número].\n",
        "numero = int(input('Digite um número:'))\n",
        "print(f'O número informado foi: {numero}')"
      ],
      "metadata": {
        "colab": {
          "base_uri": "https://localhost:8080/"
        },
        "id": "faoWsk7x9PwH",
        "outputId": "d3e3d49d-6f47-4585-adbd-3c2746871de7"
      },
      "execution_count": null,
      "outputs": [
        {
          "output_type": "stream",
          "name": "stdout",
          "text": [
            "Digite um número:20\n",
            "O número informado foi: 20\n"
          ]
        }
      ]
    },
    {
      "cell_type": "code",
      "source": [
        "#3 Faça um Programa que peça dois números e imprima a soma.\n",
        "num1 = int(input('Digite o 1º número:'))\n",
        "num2 = int(input('Digite o 2º número:'))\n",
        "print(f'A soma dos números informados foi: {num1+num2}')\n"
      ],
      "metadata": {
        "colab": {
          "base_uri": "https://localhost:8080/"
        },
        "id": "pbquPkLl-N16",
        "outputId": "87f2a7db-5582-4639-ac5b-00e3c685c83f"
      },
      "execution_count": null,
      "outputs": [
        {
          "output_type": "stream",
          "name": "stdout",
          "text": [
            "Digite o 1º número:50\n",
            "Digite o 2º número:30\n",
            "A soma dos números informados foi: 80\n"
          ]
        }
      ]
    },
    {
      "cell_type": "code",
      "source": [
        "#4 Faça um Programa que peça as 4 notas bimestrais e mostre a média.\n",
        "print('Informe as quatro notas bimestrais para que possa lhe informar a média.\\n')\n",
        "b1 = float(input('1º Nota:'))\n",
        "b2 = float(input('2º Nota:'))\n",
        "b3 = float(input('3º Nota:'))\n",
        "b4 = float(input('4º Nota:'))\n",
        "media = (b1+b2+b3+b4)/4\n",
        "print(f'\\nMédia: {media}')"
      ],
      "metadata": {
        "colab": {
          "base_uri": "https://localhost:8080/"
        },
        "id": "o2tdK7wyAX0h",
        "outputId": "56850c33-d051-4b55-b491-21f8857bba0b"
      },
      "execution_count": null,
      "outputs": [
        {
          "output_type": "stream",
          "name": "stdout",
          "text": [
            "Informe as quatro notas bimestrais para que possa lhe informar a média.\n",
            "\n",
            "1º Nota:10\n",
            "2º Nota:8\n",
            "3º Nota:9\n",
            "4º Nota:7\n",
            "\n",
            "Média: 8.5\n"
          ]
        }
      ]
    },
    {
      "cell_type": "code",
      "source": [
        "#5 Faça um Programa que converta metros para centímetros.\n",
        "m = float(input('Informe a metragem:'))\n",
        "cm = m * 100\n",
        "print('%.2f metros equivale a %.2f centímetros' %(m, cm))"
      ],
      "metadata": {
        "colab": {
          "base_uri": "https://localhost:8080/"
        },
        "id": "KNWxbjtDB178",
        "outputId": "ba517486-c75c-4715-a4ad-4ae0de47834f"
      },
      "execution_count": null,
      "outputs": [
        {
          "output_type": "stream",
          "name": "stdout",
          "text": [
            "Informe a metragem:10\n",
            "10.00 metros equivale a 1000.00 centímetros\n"
          ]
        }
      ]
    },
    {
      "cell_type": "code",
      "source": [
        "#6 Faça um Programa que peça o raio de um círculo, calcule e mostre sua área.\n",
        "raio = float(input('Digite o raio: '))\n",
        "a = 3.14 * raio**2\n",
        "print('A área do círculo é: %.2f' %(a))"
      ],
      "metadata": {
        "colab": {
          "base_uri": "https://localhost:8080/"
        },
        "id": "trKyFncEDSOe",
        "outputId": "9f3692b5-fd02-4ad7-cbf8-08b0708c30ff"
      },
      "execution_count": null,
      "outputs": [
        {
          "output_type": "stream",
          "name": "stdout",
          "text": [
            "Digite o raio: 10\n",
            "A área do círculo é: 314.00\n"
          ]
        }
      ]
    },
    {
      "cell_type": "code",
      "source": [
        "#7 Faça um Programa que calcule a área de um quadrado, em seguida mostre o dobro desta área para o usuário.\n",
        "print('Digite o lado de um quadrado para lhe mostar o dobro desta área.\\n')\n",
        "l = float(input('Lado: '))\n",
        "a = (l*l)*2\n",
        "print('\\nO dobro da área do quadrado é: %.2f' %(a))"
      ],
      "metadata": {
        "colab": {
          "base_uri": "https://localhost:8080/"
        },
        "id": "X8oNHEI7EU2m",
        "outputId": "6493b518-e03b-4846-c9a2-cba3af1304a1"
      },
      "execution_count": null,
      "outputs": [
        {
          "output_type": "stream",
          "name": "stdout",
          "text": [
            "Digite o lado de um quadrado para lhe mostar o dobro desta área.\n",
            "\n",
            "Lado: 5\n",
            "\n",
            "O dobro da área do quadrado é: 50.00\n"
          ]
        }
      ]
    },
    {
      "cell_type": "code",
      "source": [
        "#8 Faça um Programa que pergunte quanto você ganha por hora e o número de horas trabalhadas no mês. Calcule e mostre o total do seu salário no referido mês.\n",
        "ganho_hora = float(input('Informe quanto você ganha por hora: '))\n",
        "horas_trabalhadas = float(input('Informe quantas horas você trabalha por mês: '))\n",
        "print(f'O seu salário mensal é de: R${ganho_hora * horas_trabalhadas}')"
      ],
      "metadata": {
        "colab": {
          "base_uri": "https://localhost:8080/"
        },
        "id": "zJfW2dRMGCqY",
        "outputId": "5aef704b-a88b-4684-ac99-ab50e940194a"
      },
      "execution_count": null,
      "outputs": [
        {
          "output_type": "stream",
          "name": "stdout",
          "text": [
            "Informe quanto você ganha por hora: 50\n",
            "Informe quantas horas você trabalha por mês: 160\n",
            "O seu salário mensal é de: R$8000.0\n"
          ]
        }
      ]
    },
    {
      "cell_type": "code",
      "source": [
        "#9 Faça um Programa que peça a temperatura em graus Fahrenheit, transforme e mostre a temperatura em graus Celsius.\n",
        "   ## C = 5 * ((F-32) / 9)\n",
        "fahrenheit = float(input('Digite a temperatura em graus Fahrenheit: '))\n",
        "celsius = 5 * ((fahrenheit - 32)/9)\n",
        "print('A temperatura em graus Celsius é de: %.2f' %(celsius))"
      ],
      "metadata": {
        "colab": {
          "base_uri": "https://localhost:8080/"
        },
        "id": "_5hRkNOlHJWd",
        "outputId": "89aa8d20-4126-41aa-99a5-de971e49970b"
      },
      "execution_count": null,
      "outputs": [
        {
          "output_type": "stream",
          "name": "stdout",
          "text": [
            "Digite a temperatura em graus Fahrenheit: 100\n",
            "A temperatura em graus Celsius é de: 37.78\n"
          ]
        }
      ]
    },
    {
      "cell_type": "code",
      "source": [
        "#10 Faça um Programa que peça a temperatura em graus Celsius, transforme e mostre em graus Fahrenheit.\n",
        "    ## F = 32 + ((C/5) * 9)\n",
        "celsius = float(input('Digite a temperatura em graus Celsius: '))\n",
        "fahrenheit = 32 + ((celsius/5)*9)\n",
        "print('A temperatura em graus Fahrenheit é de: %.2f' %(fahrenheit))"
      ],
      "metadata": {
        "colab": {
          "base_uri": "https://localhost:8080/"
        },
        "id": "KV2CB1nVHvgI",
        "outputId": "0c0a643c-0e7b-4d2c-a5c9-09f7aa934fc4"
      },
      "execution_count": null,
      "outputs": [
        {
          "output_type": "stream",
          "name": "stdout",
          "text": [
            "Digite a temperatura em graus Celsius: 37.78\n",
            "A temperatura em graus Fahrenheit é de: 100.00\n"
          ]
        }
      ]
    },
    {
      "cell_type": "code",
      "source": [
        "#11 Faça um Programa que peça 2 números inteiros e um número real. Calcule e mostre:\n",
        "    ## a. o produto do dobro do primeiro com metade do segundo.\n",
        "    ## b. a soma do triplo do primeiro com o terceiro.\n",
        "    ## c. o terceiro elevado ao cubo.\n",
        "\n",
        "num1 = int(input('Digite o 1º número inteiro:'))\n",
        "num2 = int(input('Digite o 2º número inteiro:'))\n",
        "num3 = float(input('Digite o 3º número sendo este real: '))\n",
        "\n",
        "a = num1*2 * num2/2\n",
        "b = num1*3 + num3\n",
        "c = num3**3\n",
        "\n",
        "print('a = %.2f\\nb = %.2f\\nc = %.2f\\n' %(a, b, c))"
      ],
      "metadata": {
        "colab": {
          "base_uri": "https://localhost:8080/"
        },
        "id": "0fd9aj_0IVqZ",
        "outputId": "6c2adca0-3f5e-489f-d914-e7b5cf9e2cf2"
      },
      "execution_count": null,
      "outputs": [
        {
          "output_type": "stream",
          "name": "stdout",
          "text": [
            "Digite o 1º número inteiro:10\n",
            "Digite o 2º número inteiro:5\n",
            "Digite o 3º número sendo este real: 15.5\n",
            "a = 50.00\n",
            "b = 45.50\n",
            "c = 3723.88\n",
            "\n"
          ]
        }
      ]
    },
    {
      "cell_type": "code",
      "source": [
        "#12 Tendo como dados de entrada a altura de uma pessoa, construa um algoritmo que calcule seu peso ideal, usando a seguinte fórmula: \n",
        "    ##(72.7*altura) - 58\n",
        "altura = float(input('Digite a altura de uma pessoa: '))\n",
        "peso_ideal = (72.7 * altura) - 58\n",
        "print('O peso ideal dessa pessoa é de %.2f quilos.' %(peso_ideal))"
      ],
      "metadata": {
        "colab": {
          "base_uri": "https://localhost:8080/"
        },
        "id": "-Ka_eAt7L_oO",
        "outputId": "edac3a03-e989-404b-8e0c-910edb52efc6"
      },
      "execution_count": null,
      "outputs": [
        {
          "output_type": "stream",
          "name": "stdout",
          "text": [
            "Digite a altura de uma pessoa: 1.69\n",
            "O peso ideal dessa pessoa é de 64.86 quilos.\n"
          ]
        }
      ]
    },
    {
      "cell_type": "code",
      "source": [
        "#13 Tendo como dado de entrada a altura (h) de uma pessoa, construa um algoritmo que calcule seu peso ideal, utilizando as seguintes fórmulas:\n",
        "    ## Para homens: (72.7*h) - 58\n",
        "    ## Para mulheres: (62.1*h) - 44.7\n",
        "altura = float(input('Digite a altura de uma pessoa: '))\n",
        "peso_ideal_h = (72.7 * altura) - 58\n",
        "peso_ideal_m = (62.1 * altura) - 44.7\n",
        "print('O peso ideal dessa pessoa é de %.2f quilos para homens e %.2f para mulheres.' %(peso_ideal_h, peso_ideal_m))\n"
      ],
      "metadata": {
        "colab": {
          "base_uri": "https://localhost:8080/"
        },
        "id": "yWifHQF7NXzt",
        "outputId": "36c2dba8-9261-419d-c9b7-b0b68a536c92"
      },
      "execution_count": null,
      "outputs": [
        {
          "output_type": "stream",
          "name": "stdout",
          "text": [
            "Digite a altura de uma pessoa: 1.69\n",
            "O peso ideal dessa pessoa é de 64.86 quilos para homens e 60.25 para mulheres.\n"
          ]
        }
      ]
    },
    {
      "cell_type": "code",
      "source": [
        "#14 João Papo-de-Pescador, homem de bem, comprou um microcomputador para controlar o rendimento diário de seu trabalho. Toda vez que ele traz um peso de peixes maior que o estabelecido pelo regulamento de pesca do estado de São Paulo (50 quilos) deve pagar uma multa de R$ 4,00 por quilo excedente. João precisa que você faça um programa que leia a variável peso (peso de peixes) e calcule o excesso. Gravar na variável excesso a quantidade de quilos além do limite e na variável multa o valor da multa que João deverá pagar. Imprima os dados do programa com as mensagens adequadas.\n",
        "\n",
        "lmt_sp = 50\n",
        "\n",
        "peso = float(input('Digite o peso dos peixes: '))\n",
        "\n",
        "if peso > lmt_sp:\n",
        "  excesso = peso - lmt_sp\n",
        "  multa = 4 * excesso\n",
        "  print('O excesso foi de %.2f quilos e a multa será de R$%.2f' %(excesso, multa))\n",
        "else:\n",
        "  print('Não há multa a ser paga, o peso está dentro do limite permitido.')"
      ],
      "metadata": {
        "colab": {
          "base_uri": "https://localhost:8080/"
        },
        "id": "pGcb4mHpOHrp",
        "outputId": "fe4d7854-05b3-48b3-c1ab-e59ea5124894"
      },
      "execution_count": null,
      "outputs": [
        {
          "output_type": "stream",
          "name": "stdout",
          "text": [
            "Digite o peso dos peixes: 100\n",
            "O excesso foi de 50.00 quilos e a multa será de R$200.00\n"
          ]
        }
      ]
    },
    {
      "cell_type": "code",
      "source": [
        "#15 Faça um Programa que pergunte quanto você ganha por hora e o número de horas trabalhadas no mês. Calcule e mostre o total do seu salário no referido mês, sabendo-se que são descontados 11% para o Imposto de Renda, 8% para o INSS e 5% para o sindicato, faça um programa que nos dê:\n",
        "## a. salário bruto.\n",
        "## b. quanto pagou ao INSS.\n",
        "## c. quanto pagou ao sindicato.\n",
        "## d. o salário líquido.\n",
        "## e. calcule os descontos e o salário líquido, conforme a tabela abaixo:\n",
        "      ### + Salário Bruto : R$\n",
        "      ### - IR (11%) : R$\n",
        "      ### - INSS (8%) : R$\n",
        "      ### - Sindicato ( 5%) : R$\n",
        "      ### = Salário Liquido : R$\n",
        "\n",
        "ir = 0.11\n",
        "inss = 0.08\n",
        "sindicato = 0.05\n",
        "\n",
        "ganho_hora = float(input('Informe quanto você ganha por hora: '))\n",
        "horas_trabalhadas = float(input('Informe quantas horas você trabalha por mês: '))\n",
        "\n",
        "salario_bruto = ganho_hora * horas_trabalhadas\n",
        "inss_calculado = salario_bruto * inss\n",
        "sindicato_calculado = salario_bruto * sindicato\n",
        "ir_calculado = salario_bruto * ir\n",
        "salario_liquido = salario_bruto - inss_calculado - sindicato_calculado - ir_calculado\n",
        "\n",
        "print('a) O seu salário bruto mensal é de: R$%.2f' %(salario_bruto))\n",
        "print('b) Você pagou R$%.2f para o INSS' %(inss_calculado))\n",
        "print('c) Você pagou R$%.2f para o sindicato' %(sindicato_calculado))\n",
        "print('d) O seu salário líquido é de: R$%.2f' %(salario_liquido))\n",
        "print(f'e) Resumo:\\n\\n + Salário Bruto : R${salario_bruto}\\n - IR (11%) : R${ir_calculado}\\n - INSS (8%) : R${inss_calculado}\\n - Sindicato (5%) : R${sindicato_calculado}\\n = Salário Liquido : R${salario_liquido}')"
      ],
      "metadata": {
        "colab": {
          "base_uri": "https://localhost:8080/"
        },
        "id": "jD9Oi8TsQDyp",
        "outputId": "40acdd78-9278-4bb2-de9d-ff9613f48319"
      },
      "execution_count": null,
      "outputs": [
        {
          "output_type": "stream",
          "name": "stdout",
          "text": [
            "Informe quanto você ganha por hora: 100\n",
            "Informe quantas horas você trabalha por mês: 160\n",
            "a) O seu salário bruto mensal é de: R$16000.00\n",
            "b) Você pagou R$1280.00 para o INSS\n",
            "c) Você pagou R$800.00 para o sindicato\n",
            "d) O seu salário líquido é de: R$12160.00\n",
            "e) Resumo:\n",
            "\n",
            " + Salário Bruto : R$16000.0\n",
            " - IR (11%) : R$1760.0\n",
            " - INSS (8%) : R$1280.0\n",
            " - Sindicato (5%) : R$800.0\n",
            " = Salário Liquido : R$12160.0\n"
          ]
        }
      ]
    },
    {
      "cell_type": "code",
      "source": [
        "#16 Faça um programa para uma loja de tintas. O programa deverá pedir o tamanho em metros quadrados da área a ser pintada. Considere que a cobertura da tinta é de 1 litro para cada 3 metros quadrados e que a tinta é vendida em latas de 18 litros, que custam R$ 80,00. Informe ao usuário a quantidades de latas de tinta a serem compradas e o preço total.\n",
        "\n",
        "cobertura_por_litro = 3\n",
        "litros_lata = 18\n",
        "valor_lata = 80\n",
        "\n",
        "m2 = float(input('Informe a área a ser pintada em metros quadrados: '))\n",
        "litros_necessario = m2 / cobertura_por_litro\n",
        "latas_necessario = int(litros_necessario / litros_lata)\n",
        "if latas_necessario % litros_lata !=0:\n",
        "    latas_necessario += 1\n",
        "valor_total = latas_necessario * valor_lata\n",
        "\n",
        "print(f'Será necessário {latas_necessario} latas no valor total de R${valor_total:.2f}')"
      ],
      "metadata": {
        "colab": {
          "base_uri": "https://localhost:8080/"
        },
        "id": "iX9oU_AoYF1e",
        "outputId": "1da1c61e-6027-4fac-a66b-e310ac9a4a69"
      },
      "execution_count": null,
      "outputs": [
        {
          "output_type": "stream",
          "name": "stdout",
          "text": [
            "Informe a área a ser pintada em metros quadrados: 500\n",
            "Será necessário 10 latas no valor total de R$800.00\n"
          ]
        }
      ]
    },
    {
      "cell_type": "code",
      "source": [
        "#17 Faça um Programa para uma loja de tintas. O programa deverá pedir o tamanho em metros quadrados da área a ser pintada. Considere que a cobertura da tinta é de 1 litro para cada 6 metros quadrados e que a tinta é vendida em latas de 18 litros, que custam R$ 80,00 ou em galões de 3,6 litros, que custam R$ 25,00.\n",
        "    ## Informe ao usuário as quantidades de tinta a serem compradas e os respectivos preços em 3 situações:\n",
        "      ### comprar apenas latas de 18 litros;\n",
        "      ### comprar apenas galões de 3,6 litros;\n",
        "      ### misturar latas e galões, de forma que o desperdício de tinta seja menor. Acrescente 10% de folga e sempre arredonde os valores para cima, isto é, considere latas cheias.\n",
        "\n",
        "cobertura_por_litro = 6\n",
        "litros_lata = 18\n",
        "litros_galao = 3.6\n",
        "valor_lata = 80\n",
        "valor_galao = 25\n",
        "\n",
        "m2 = float(input('Informe a área a ser pintada em metros quadrados: '))\n",
        "litros_necessario = m2 / cobertura_por_litro\n",
        "\n",
        "#latas\n",
        "latas_necessario = int(litros_necessario / litros_lata)\n",
        "if latas_necessario % litros_lata !=0:\n",
        "    latas_necessario += 1\n",
        "valor_total_lata = latas_necessario * valor_lata\n",
        "\n",
        "#galões\n",
        "galoes_necessario = int(litros_necessario / litros_galao)\n",
        "if galoes_necessario % litros_galao !=0:\n",
        "    galoes_necessario += 1\n",
        "valor_total_galao = galoes_necessario * valor_galao\n",
        "\n",
        "#mistura\n",
        "lata_mistura = int(litros_necessario / litros_lata)\n",
        "galao_mistura = int((litros_necessario - (lata_mistura * litros_lata)) / litros_galao)\n",
        "\n",
        "if ((litros_necessario - (lata_mistura * litros_lata) % litros_galao != 0)):\n",
        "    galao_mistura += 1\n",
        "\n",
        "\n",
        "print(f'a) Será necessário {latas_necessario} latas no valor total de R$ {valor_total_lata:.2f}')\n",
        "print(f'b) Será necessário {galoes_necessario} galões no valor total de R$ {valor_total_galao:.2f}')\n",
        "print('c) A mistura ocorrerá da seguinte forma: %d latas e %d galoes no valor total de R$ %.2f' % (latas_necessario, galoes_necessario, ((lata_mistura * 80) + (galao_mistura * 25))))\n"
      ],
      "metadata": {
        "colab": {
          "base_uri": "https://localhost:8080/"
        },
        "id": "TGw90gPIegdO",
        "outputId": "34e16182-231c-472d-8d5e-b7fd85f522b9"
      },
      "execution_count": null,
      "outputs": [
        {
          "output_type": "stream",
          "name": "stdout",
          "text": [
            "Informe a área a ser pintada em metros quadrados: 500\n",
            "a) Será necessário 5 latas no valor total de R$ 400.00\n",
            "b) Será necessário 24 galões no valor total de R$ 600.00\n",
            "c) A mistura ocorrerá da seguinte forma: 5 latas e 24 galoes no valor total de R$ 420.00\n"
          ]
        }
      ]
    },
    {
      "cell_type": "code",
      "source": [
        "#18 Faça um programa que peça o tamanho de um arquivo para download (em MB) e a velocidade de um link de Internet (em Mbps), calcule e informe o tempo aproximado de download do arquivo usando este link (em minutos).\n",
        "\n",
        "tamanho = float(input('Informe o tamanho do arquivo em MB: '))\n",
        "velocidade = float(input('Informe a velocidade da internet em Mbps: '))\n",
        "\n",
        "tempo = (tamanho / (velocidade / 8)) / 60\n",
        "\n",
        "print(f'O tempo aproximado de download do arquivo é de {tempo:.2f} minutos')"
      ],
      "metadata": {
        "colab": {
          "base_uri": "https://localhost:8080/"
        },
        "id": "pQaBIz2pitEJ",
        "outputId": "ea46d47d-52d6-4113-b310-684d554002a3"
      },
      "execution_count": null,
      "outputs": [
        {
          "output_type": "stream",
          "name": "stdout",
          "text": [
            "Informe o tamanho do arquivo em MB: 15\n",
            "Informe a velocidade da internet em Mbps: 10\n",
            "O tempo aproximado de download do arquivo é de 0.20 minutos\n"
          ]
        }
      ]
    },
    {
      "cell_type": "markdown",
      "source": [
        "# 2. Estrutura de Decisão"
      ],
      "metadata": {
        "id": "hTjHWZzuuyh_"
      }
    },
    {
      "cell_type": "code",
      "source": [
        "#1 Faça um Programa que peça dois números e imprima o maior deles.\n",
        "\n",
        "num1 = int(input('Informe o 1º número inteiro: '))\n",
        "num2 = int(input('Informe o 2º número inteiro: '))\n",
        "\n",
        "if num1 > num2:\n",
        "  print(f'{num1} é maior que {num2}')\n",
        "else:\n",
        "  print(f'{num2} é maior que {num1}')"
      ],
      "metadata": {
        "colab": {
          "base_uri": "https://localhost:8080/"
        },
        "id": "lnowF-7RvJql",
        "outputId": "68ac1bd9-571b-4af6-fe2a-5378e34bfb92"
      },
      "execution_count": null,
      "outputs": [
        {
          "output_type": "stream",
          "name": "stdout",
          "text": [
            "Informe o 1º número: 25\n",
            "Informe o 2º número: 100\n",
            "100 é maior que 25\n"
          ]
        }
      ]
    },
    {
      "cell_type": "code",
      "source": [
        "#2 Faça um Programa que peça um valor e mostre na tela se o valor é positivo ou negativo.\n",
        "\n",
        "numero = float(input('Informe um número qualquer: '))\n",
        "if numero > 0:\n",
        "  print('O número informado é positivo')\n",
        "elif numero == 0:\n",
        "  print('Você informou o número 0 e ele é neutro')\n",
        "else:\n",
        "  print('O número informado é negativo')"
      ],
      "metadata": {
        "colab": {
          "base_uri": "https://localhost:8080/"
        },
        "id": "Xx0UgYxcv-py",
        "outputId": "7a488291-9d60-4d46-a309-b40c824c1dad"
      },
      "execution_count": null,
      "outputs": [
        {
          "output_type": "stream",
          "name": "stdout",
          "text": [
            "Informe um número qualquer: -2\n",
            "O número informado é negativo\n"
          ]
        }
      ]
    },
    {
      "cell_type": "code",
      "source": [
        "#3 Faça um Programa que verifique se uma letra digitada é \"F\" ou \"M\". Conforme a letra escrever: F - Feminino, M - Masculino, Sexo Inválido.\n",
        "\n",
        "sexo = str(input('Informe F ou M: '))\n",
        "\n",
        "if sexo == 'F':\n",
        "  print('F - Feminino')\n",
        "elif sexo == 'M':\n",
        "  print('M - Masculino')\n",
        "else:\n",
        "  print('Sexo Inválido')"
      ],
      "metadata": {
        "colab": {
          "base_uri": "https://localhost:8080/"
        },
        "id": "FPIHwGhiwwtM",
        "outputId": "65edc320-38b9-42ce-c504-e7e51adf85ff"
      },
      "execution_count": null,
      "outputs": [
        {
          "output_type": "stream",
          "name": "stdout",
          "text": [
            "Informe F ou M: A\n",
            "Sexo Inválido\n"
          ]
        }
      ]
    },
    {
      "cell_type": "code",
      "source": [
        "#4 Faça um Programa que verifique se uma letra digitada é vogal ou consoante.\n",
        "\n",
        "vogais = ['a', 'e', 'i', 'o', 'u']\n",
        "\n",
        "letra = str(input('Digite uma letra: '))\n",
        "\n",
        "if letra in vogais:\n",
        "  print(f'{letra} é uma vogal')\n",
        "else:\n",
        "  print(f'{letra} é uma consoante')"
      ],
      "metadata": {
        "colab": {
          "base_uri": "https://localhost:8080/"
        },
        "id": "imKz4XuNxiA7",
        "outputId": "6d19aeb9-c541-44ae-e217-16f4cea65f69"
      },
      "execution_count": null,
      "outputs": [
        {
          "output_type": "stream",
          "name": "stdout",
          "text": [
            "Digite uma letra: c\n",
            "c é uma consoante\n"
          ]
        }
      ]
    },
    {
      "cell_type": "code",
      "source": [
        "#5 Faça um programa para a leitura de duas notas parciais de um aluno. O programa deve calcular a média alcançada por aluno e apresentar:\n",
        "    ## A mensagem \"Aprovado\", se a média alcançada for maior ou igual a sete;\n",
        "    ## A mensagem \"Reprovado\", se a média for menor do que sete;\n",
        "    ## A mensagem \"Aprovado com Distinção\", se a média for igual a dez.\n",
        "\n",
        "nota1 = float(input('Informe a 1ª Nota: '))\n",
        "nota2 = float(input('Informe a 2ª Nota: '))\n",
        "\n",
        "media = (nota1 + nota2) / 2\n",
        "\n",
        "if (media >= 7) & (media < 10):\n",
        "  print('Aprovado')\n",
        "elif media == 10:\n",
        "  print('Aprovado com Distinção')\n",
        "else:\n",
        "  print('Reprovado')"
      ],
      "metadata": {
        "colab": {
          "base_uri": "https://localhost:8080/"
        },
        "id": "saF5Ewbrycsp",
        "outputId": "1f099f67-7156-4fdd-f274-f50b03ed50ac"
      },
      "execution_count": null,
      "outputs": [
        {
          "output_type": "stream",
          "name": "stdout",
          "text": [
            "Informe a 1ª Nota: 6\n",
            "Informe a 2ª Nota: 4\n",
            "Reprovado\n"
          ]
        }
      ]
    },
    {
      "cell_type": "code",
      "source": [
        "#6 Faça um Programa que leia três números e mostre o maior deles.\n",
        "\n",
        "lista = []\n",
        "\n",
        "lista.append(float(input('1- Informe um número qualquer: ')))\n",
        "lista.append(float(input('2- Informe um número qualquer: ')))\n",
        "lista.append(float(input('3- Informe um número qualquer: ')))\n",
        "print('O maior número informado é: %.2f' %(max(lista)))\n",
        "lista.clear()"
      ],
      "metadata": {
        "colab": {
          "base_uri": "https://localhost:8080/"
        },
        "id": "iLOYwDss1F1Z",
        "outputId": "5f34ed81-374c-412d-dde6-c78492feed54"
      },
      "execution_count": null,
      "outputs": [
        {
          "output_type": "stream",
          "name": "stdout",
          "text": [
            "1- Informe um número qualquer: 10\n",
            "2- Informe um número qualquer: 20\n",
            "3- Informe um número qualquer: 15\n",
            "O maior número informado é: 20.00\n"
          ]
        }
      ]
    },
    {
      "cell_type": "code",
      "source": [
        "#7 Faça um Programa que leia três números e mostre o maior e o menor deles.\n",
        "\n",
        "lista.append(float(input('1- Informe um número qualquer: ')))\n",
        "lista.append(float(input('2- Informe um número qualquer: ')))\n",
        "lista.append(float(input('3- Informe um número qualquer: ')))\n",
        "print('O maior número informado é: %.2f\\nO menor número informado é: %.2f' %(max(lista), min(lista)))\n",
        "lista.clear()"
      ],
      "metadata": {
        "colab": {
          "base_uri": "https://localhost:8080/"
        },
        "id": "IWxjDxRe2GAd",
        "outputId": "8ce7eb7c-3f0d-464c-e95f-e3ab6fac1e2e"
      },
      "execution_count": null,
      "outputs": [
        {
          "output_type": "stream",
          "name": "stdout",
          "text": [
            "1- Informe um número qualquer: 100\n",
            "2- Informe um número qualquer: 90\n",
            "3- Informe um número qualquer: 150\n",
            "O maior número informado é: 150.00\n",
            "O menor número informado é: 90.00\n"
          ]
        }
      ]
    },
    {
      "cell_type": "code",
      "source": [
        "#8 Faça um programa que pergunte o preço de três produtos e informe qual produto você deve comprar, sabendo que a decisão é sempre pelo mais barato.\n",
        "\n",
        "produto1 = float(input('1- Informe o valor do produto: '))\n",
        "produto2 = float(input('1- Informe o valor do produto: '))\n",
        "produto3 = float(input('1- Informe o valor do produto: '))\n",
        "\n",
        "if (produto1 < produto2) & (produto1 < produto3):\n",
        "  print('Você deve comprar o primeiro produto informado no valor de R$ %.2f' %(produto1))\n",
        "elif (produto2 < produto1) & (produto2 < produto3):\n",
        "  print('Vovê deve comprar o segundo produto informado no valor de R$ %.2f' %(produto2))\n",
        "else:\n",
        "  print('Você deve comprar o terceiro produto informado no valor de R$ %.2f' %(produto3))\n"
      ],
      "metadata": {
        "colab": {
          "base_uri": "https://localhost:8080/"
        },
        "id": "qPgW5DvC28ZQ",
        "outputId": "1057a678-5f51-40bd-9a15-44ca052d337d"
      },
      "execution_count": null,
      "outputs": [
        {
          "output_type": "stream",
          "name": "stdout",
          "text": [
            "1- Informe o valor do produto: 5\n",
            "1- Informe o valor do produto: 50\n",
            "1- Informe o valor do produto: 25\n",
            "Você deve comprar o primeiro produto informado no valor de R$ 5.00\n"
          ]
        }
      ]
    },
    {
      "cell_type": "code",
      "source": [
        "#9 Faça um Programa que leia três números e mostre-os em ordem decrescente.\n",
        "\n",
        "numero1 = float(input('1- Informe um numero qualquer: '))\n",
        "numero2 = float(input('2- Informe um numero qualquer: '))\n",
        "numero3 = float(input('3- Informe um numero qualquer: '))\n",
        "\n",
        "if (numero1 < numero2) & (numero1 < numero3):\n",
        "  n1 = numero1\n",
        "  if numero2 < numero3:\n",
        "    n2 = numero2\n",
        "    n3 = numero3\n",
        "  else:\n",
        "    n2 = numero3\n",
        "    n3 = numero2\n",
        "elif (numero2 < numero1) & (numero2 < numero3):\n",
        "  n1 = numero2\n",
        "  if numero1 < numero3:\n",
        "    n2 = numero1\n",
        "    n3 = numero3\n",
        "  else:\n",
        "      n2 = numero3\n",
        "      n3 = numero1\n",
        "else:\n",
        "  n1 = numero3\n",
        "  if numero1 < numero2:\n",
        "    n2 = numero1\n",
        "    n3 = numero2\n",
        "  else:\n",
        "    n2 = numero2\n",
        "    n3 = numero1\n",
        "print('Números em ordem decrescente: %.2f, %.2f, %.2f' %(n3, n2, n1))"
      ],
      "metadata": {
        "colab": {
          "base_uri": "https://localhost:8080/"
        },
        "id": "ckE5BIhv4N4v",
        "outputId": "b0627a1f-266c-4e74-e875-19037e406f07"
      },
      "execution_count": null,
      "outputs": [
        {
          "output_type": "stream",
          "name": "stdout",
          "text": [
            "1- Informe um numero qualquer: 10\n",
            "2- Informe um numero qualquer: 20\n",
            "3- Informe um numero qualquer: 25\n",
            "Números em ordem decrescente: 25.00, 20.00, 10.00\n"
          ]
        }
      ]
    },
    {
      "cell_type": "code",
      "source": [
        "#10 Faça um Programa que pergunte em que turno você estuda. Peça para digitar M-matutino ou V-Vespertino ou N- Noturno. Imprima a mensagem \"Bom Dia!\", \"Boa Tarde!\" ou \"Boa Noite!\" ou \"Valor Inválido!\", conforme o caso.\n",
        "\n",
        "perido = str(input('Informe seu turno da seguinte forma: \\nM-matutino ou V-Vespertino ou N- Noturno\\n'))\n",
        "\n",
        "if perido == 'M':\n",
        "  print('Bom Dia!')\n",
        "elif perido == 'V':\n",
        "  print('Boa Tarde!')\n",
        "elif perido == 'N':\n",
        "  print('Boa Noite!')\n",
        "else:\n",
        "  print('Valor Inválido!')"
      ],
      "metadata": {
        "colab": {
          "base_uri": "https://localhost:8080/"
        },
        "id": "qoId68nh7Aj_",
        "outputId": "a4561bde-2ba8-47a7-b009-bfaf2e7cbfcd"
      },
      "execution_count": null,
      "outputs": [
        {
          "output_type": "stream",
          "name": "stdout",
          "text": [
            "Informe seu turno da seguinte forma: \n",
            "M-matutino ou V-Vespertino ou N- Noturno\n",
            "A\n",
            "Valor Inválido!\n"
          ]
        }
      ]
    },
    {
      "cell_type": "code",
      "source": [
        "#11 As Organizações Tabajara resolveram dar um aumento de salário aos seus colaboradores e lhe contraram para desenvolver o programa que calculará os reajustes.\n",
        "    ## Faça um programa que recebe o salário de um colaborador e o reajuste segundo o seguinte critério, baseado no salário atual:\n",
        "        ### salários até R$ 280,00 (incluindo) : aumento de 20%\n",
        "        ### salários entre R$ 280,00 e R$ 700,00 : aumento de 15%\n",
        "        ### salários entre R$ 700,00 e R$ 1500,00 : aumento de 10%\n",
        "        ### salários de R$ 1500,00 em diante : aumento de 5% Após o aumento ser realizado, informe na tela:\n",
        "        ### o salário antes do reajuste;\n",
        "        ### o percentual de aumento aplicado;\n",
        "        ### o valor do aumento;\n",
        "        ### o novo salário, após o aumento.\n",
        "\n",
        "salario = float(input('Informe o seu salário: R$ '))\n",
        "\n",
        "if salario <= 280:\n",
        "  percentual = 0.2\n",
        "  salario_reajuste = salario + (salario * percentual)\n",
        "elif (salario > 280) & (salario < 700):\n",
        "  percentual = 0.15\n",
        "  salario_reajuste = salario + (salario * percentual)\n",
        "elif (salario > 700) & (salario < 1500):\n",
        "  percentual = 0.10\n",
        "  salario_reajuste = salario + (salario * percentual)\n",
        "else:\n",
        "  percentual = 0.05\n",
        "  salario_reajuste = salario + (salario * percentual)\n",
        "aumento = salario_reajuste - salario\n",
        "print('Salário antes do reajuste: R$ %.2f\\nPercentual de aumento aplicado: %.2f%%\\nValor do aumento: R$ %.2f\\nNovo salário: R$ %.2f' %(salario, percentual * 100, aumento, salario_reajuste))"
      ],
      "metadata": {
        "colab": {
          "base_uri": "https://localhost:8080/"
        },
        "id": "J96Pufxu7_Gq",
        "outputId": "8c30e8c2-880a-4069-9052-b44fd1962853"
      },
      "execution_count": null,
      "outputs": [
        {
          "output_type": "stream",
          "name": "stdout",
          "text": [
            "Informe o seu salário: R$ 200\n",
            "Salário antes do reajuste: R$ 200.00\n",
            "Percentual de aumento aplicado: 20.00%\n",
            "Valor do aumento: R$ 40.00\n",
            "Novo salário: R$ 240.00\n"
          ]
        }
      ]
    },
    {
      "cell_type": "markdown",
      "source": [
        "#3. Estrutura de Repetição"
      ],
      "metadata": {
        "id": "W0udEwqz3zy5"
      }
    },
    {
      "cell_type": "code",
      "source": [
        "#1 Faça um programa que peça uma nota, entre zero e dez. Mostre uma mensagem caso o valor seja inválido e continue pedindo até que o usuário informe um valor válido.\n",
        "\n",
        "while True:\n",
        "  nota = float(input('Digite uma nota entre zere e dez: '))\n",
        "  if (nota >= 0) & (nota <= 10):\n",
        "    break\n",
        "  else:\n",
        "    print('Valor inválido, digite novamente.'))"
      ],
      "metadata": {
        "colab": {
          "base_uri": "https://localhost:8080/"
        },
        "id": "0UwdrkHH34dB",
        "outputId": "ed472aff-40e9-45a0-949d-ebbe4a3df833"
      },
      "execution_count": null,
      "outputs": [
        {
          "name": "stdout",
          "output_type": "stream",
          "text": [
            "Digite uma nota entre zere e dez: 15\n",
            "Digite uma nota entre zere e dez: 15\n",
            "Digite uma nota entre zere e dez: 2\n"
          ]
        }
      ]
    },
    {
      "cell_type": "code",
      "source": [
        "#2 Faça um programa que leia um nome de usuário e a sua senha e não aceite a senha igual ao nome do usuário, mostrando uma mensagem de erro e voltando a pedir as informações.\n",
        "\n",
        "while True:\n",
        "  usuario = str(input('Usuário: '))\n",
        "  senha = str(input('Senha: '))\n",
        "  if usuario == senha:\n",
        "    print('Erro: nome de usuário é igual a senha')\n",
        "  else:\n",
        "    break"
      ],
      "metadata": {
        "colab": {
          "base_uri": "https://localhost:8080/"
        },
        "id": "lNqhcg1t9H3P",
        "outputId": "f3bcf052-67ff-49a7-8458-9a6038699cb1"
      },
      "execution_count": null,
      "outputs": [
        {
          "name": "stdout",
          "output_type": "stream",
          "text": [
            "Usuário: Lucas\n",
            "Senha: Lucas\n",
            "Erro: nome de usuário é igual a senha\n",
            "Usuário: Lucas\n",
            "Senha: Senha\n"
          ]
        }
      ]
    },
    {
      "cell_type": "code",
      "source": [
        "#3 Faça um programa que leia e valide as seguintes informações:\n",
        "    ## Nome: maior que 3 caracteres;\n",
        "    ## Idade: entre 0 e 150;\n",
        "    ## Salário: maior que zero;\n",
        "    ## Sexo: 'f' ou 'm';\n",
        "    ## Estado Civil: 's', 'c', 'v', 'd';\n",
        "\n",
        "while True:\n",
        "  nome = str(input('Nome: '))\n",
        "  if len(nome) <= 3:\n",
        "    print('Nome Inválido, digite novamente.')\n",
        "  else:\n",
        "    break\n",
        "while True:\n",
        "  idade = int(input('Idade: '))\n",
        "  if (idade >= 0) & (idade <= 150):\n",
        "    break\n",
        "  else:\n",
        "    print('Idade Inválida, digite novamente.')\n",
        "while True:\n",
        "  salario = float(input('Salário: '))\n",
        "  if salario == 0:\n",
        "    print('Salário Inválido, digite novamente.')\n",
        "  else:\n",
        "    break\n",
        "while True:\n",
        "  sexo = str(input('Sexo, f ou m: '))\n",
        "  if sexo in 'fm':\n",
        "    break\n",
        "  else:\n",
        "    print('Sexo Inválido, digite novamente.')\n",
        "while True:\n",
        "  estado_civil = str(input('Estado Civil, s, c, v, d: '))\n",
        "  if estado_civil in 'scvd':\n",
        "    break\n",
        "  else:\n",
        "    print('Estado Civil Inválido, digite novamente')"
      ],
      "metadata": {
        "colab": {
          "base_uri": "https://localhost:8080/"
        },
        "id": "s899i18199Ga",
        "outputId": "1b2a6808-79c5-4235-f78f-28d01e7e2d50"
      },
      "execution_count": null,
      "outputs": [
        {
          "name": "stdout",
          "output_type": "stream",
          "text": [
            "Nome: Lucas\n",
            "Idade: 25\n",
            "Salário: 1800\n",
            "Sexo, f ou m: m\n",
            "Estado Civil, s, c, v, d: s\n"
          ]
        }
      ]
    },
    {
      "cell_type": "code",
      "source": [
        "#4 Supondo que a população de um país A seja da ordem de 80000 habitantes com uma taxa anual de crescimento de 3% e que a população de B seja 200000 habitantes com uma taxa de crescimento de 1.5%. Faça um programa que calcule e escreva o número de anos necessários para que a população do país A ultrapasse ou iguale a população do país B, mantidas as taxas de crescimento.\n",
        "\n",
        "a = 80000\n",
        "b = 200000\n",
        "tx_a = 0.03\n",
        "tx_b = 0.015\n",
        "ano = 0\n",
        "\n",
        "while a < b:\n",
        "  a = a + (a * tx_a)\n",
        "  b = b + (b * tx_b)\n",
        "  ano += 1\n",
        "print(ano)"
      ],
      "metadata": {
        "colab": {
          "base_uri": "https://localhost:8080/"
        },
        "id": "kUjwrLp2DUmT",
        "outputId": "426c95a5-5e2b-4781-ba22-95ac170dac50"
      },
      "execution_count": null,
      "outputs": [
        {
          "output_type": "stream",
          "name": "stdout",
          "text": [
            "63\n"
          ]
        }
      ]
    },
    {
      "cell_type": "code",
      "source": [
        "#5 Altere o programa anterior permitindo ao usuário informar as populações e as taxas de crescimento iniciais. Valide a entrada e permita repetir a operação.\n",
        "\n",
        "ano = 0\n",
        "\n",
        "while True:\n",
        "  a = int(input('Digite a população do 1º país: '))\n",
        "  b = int(input('Digite a população do 2º país: '))\n",
        "  tx_a = float(input('Digite a taxa de crecimento anual do 1º país: '))\n",
        "  tx_b = float(input('Digite a taxa de crecimento anual do 2º país: '))\n",
        "  if (a > b) & (tx_a > tx_b):\n",
        "    print('Valores inválidos, repita a operação')\n",
        "  elif (b > a) & (tx_b > tx_a):\n",
        "    print('Valores inválidos, repita a operação')\n",
        "  else:\n",
        "    break\n",
        "while a < b:\n",
        "  a = a + (a * tx_a)\n",
        "  b = b + (b * tx_b)\n",
        "  ano += 1\n",
        "print(ano)"
      ],
      "metadata": {
        "colab": {
          "base_uri": "https://localhost:8080/"
        },
        "id": "F3LmQwfYGYg2",
        "outputId": "887818ee-ba58-48e2-8aab-6d29d7a9934a"
      },
      "execution_count": null,
      "outputs": [
        {
          "output_type": "stream",
          "name": "stdout",
          "text": [
            "Digite a população do 1º país: 250000\n",
            "Digite a população do 2º país: 150000\n",
            "Digite a taxa de crecimento anual do 1º país: 1\n",
            "Digite a taxa de crecimento anual do 2º país: 0.5\n",
            "Valores inválidos, repita a operação\n",
            "Digite a população do 1º país: 2\n",
            "Digite a população do 2º país: 1\n",
            "Digite a taxa de crecimento anual do 1º país: 0.1\n",
            "Digite a taxa de crecimento anual do 2º país: 0\n",
            "Valores inválidos, repita a operação\n",
            "Digite a população do 1º país: 2\n",
            "Digite a população do 2º país: 1\n",
            "Digite a taxa de crecimento anual do 1º país: 0\n",
            "Digite a taxa de crecimento anual do 2º país: 0.1\n",
            "0\n"
          ]
        }
      ]
    },
    {
      "cell_type": "code",
      "source": [
        "#6 Faça um programa que imprima na tela os números de 1 a 20, um abaixo do outro. Depois modifique o programa para que ele mostre os números um ao lado do outro.\n",
        "\n",
        "for i in range(1, 21):\n",
        "  print(i)\n",
        "\n",
        "for i in range(1, 21):\n",
        "  print(i, end = ' ')"
      ],
      "metadata": {
        "colab": {
          "base_uri": "https://localhost:8080/"
        },
        "id": "_p9qkTNxIuZv",
        "outputId": "906db1a3-698b-4ad3-9789-281a920af801"
      },
      "execution_count": null,
      "outputs": [
        {
          "output_type": "stream",
          "name": "stdout",
          "text": [
            "1\n",
            "2\n",
            "3\n",
            "4\n",
            "5\n",
            "6\n",
            "7\n",
            "8\n",
            "9\n",
            "10\n",
            "11\n",
            "12\n",
            "13\n",
            "14\n",
            "15\n",
            "16\n",
            "17\n",
            "18\n",
            "19\n",
            "20\n",
            "1 2 3 4 5 6 7 8 9 10 11 12 13 14 15 16 17 18 19 20 "
          ]
        }
      ]
    },
    {
      "cell_type": "code",
      "source": [
        "#7 Faça um programa que leia 5 números e informe o maior número.\n",
        "\n",
        "    ## Utilizando laço While\n",
        "numeros = []\n",
        "posicao = 1\n",
        "\n",
        "while len(numeros) < 5:\n",
        "  numeros.append(float(input('Digite o %dº Numero: ' %posicao)))\n",
        "  posicao += 1\n",
        "print('O maior número digitado foi: %d' %max(numeros))"
      ],
      "metadata": {
        "colab": {
          "base_uri": "https://localhost:8080/"
        },
        "id": "AbJyBCGPLxKH",
        "outputId": "51f6541e-caff-4ae2-dab0-750d65c803d8"
      },
      "execution_count": null,
      "outputs": [
        {
          "output_type": "stream",
          "name": "stdout",
          "text": [
            "Digite o 1º Numero: 20\n",
            "Digite o 2º Numero: 40\n",
            "Digite o 3º Numero: 30\n",
            "Digite o 4º Numero: 15\n",
            "Digite o 5º Numero: 10\n",
            "O maior número digitado foi: 40\n"
          ]
        }
      ]
    },
    {
      "cell_type": "code",
      "source": [
        "#8 Faça um programa que leia 5 números e informe a soma e a média dos números.\n",
        "\n",
        "numeros = []\n",
        "posicao = 1\n",
        "\n",
        "while len(numeros) < 5:\n",
        "  numeros.append(float(input('Digite o %dº Numero: ' %posicao)))\n",
        "  posicao += 1\n",
        "print('O maior número digitado foi: %d' %max(numeros))\n",
        "print('A soma dos números digitados é: %d' %sum(numeros))\n",
        "print('A média dos números digitados é: %d' %(sum(numeros)/5))"
      ],
      "metadata": {
        "colab": {
          "base_uri": "https://localhost:8080/"
        },
        "id": "TwPIc99BPCPa",
        "outputId": "84b79d12-3fba-4519-8c83-69b5968bcbe9"
      },
      "execution_count": null,
      "outputs": [
        {
          "output_type": "stream",
          "name": "stdout",
          "text": [
            "Digite o 1º Numero: 1\n",
            "Digite o 2º Numero: 2\n",
            "Digite o 3º Numero: 3\n",
            "Digite o 4º Numero: 4\n",
            "Digite o 5º Numero: 5\n",
            "O maior número digitado foi: 5\n",
            "A soma dos números digitados é: 15\n",
            "A média dos números digitados é: 3\n"
          ]
        }
      ]
    },
    {
      "cell_type": "code",
      "source": [
        "#9 Faça um programa que imprima na tela apenas os números ímpares entre 1 e 50.\n",
        "\n",
        "for i in range(1,50):\n",
        "  if i %2 != 0:\n",
        "    print(i, end=' ')"
      ],
      "metadata": {
        "colab": {
          "base_uri": "https://localhost:8080/"
        },
        "id": "F82xV8aOQpHw",
        "outputId": "3e21025c-2fe3-4ded-9622-cdb1180da5f0"
      },
      "execution_count": null,
      "outputs": [
        {
          "output_type": "stream",
          "name": "stdout",
          "text": [
            "1 3 5 7 9 11 13 15 17 19 21 23 25 27 29 31 33 35 37 39 41 43 45 47 49 "
          ]
        }
      ]
    },
    {
      "cell_type": "code",
      "source": [
        "#10 Faça um programa que receba dois números inteiros e gere os números inteiros que estão no intervalo compreendido por eles.\n",
        "\n",
        "num1 = int(input('Digite o 1º número: '))\n",
        "num2 = int(input('Digite o 2º número: '))\n",
        "\n",
        "for i in range(num1+1, num2):\n",
        "  print(i, end=' ')"
      ],
      "metadata": {
        "colab": {
          "base_uri": "https://localhost:8080/"
        },
        "id": "sPjxE697RMOD",
        "outputId": "00eb9e05-6c98-443d-e5f0-4e1453b38b66"
      },
      "execution_count": null,
      "outputs": [
        {
          "output_type": "stream",
          "name": "stdout",
          "text": [
            "Digite o 1º número: 1\n",
            "Digite o 2º número: 10\n",
            "2 3 4 5 6 7 8 9 "
          ]
        }
      ]
    },
    {
      "cell_type": "code",
      "source": [
        "#11 Altere o programa anterior para mostrar no final a soma dos números.\n",
        "\n",
        "soma = 0\n",
        "\n",
        "num1 = int(input('Digite o 1º número: '))\n",
        "num2 = int(input('Digite o 2º número: '))\n",
        "\n",
        "for i in range(num1+1, num2):\n",
        "  soma += i\n",
        "  print(i, end=' ')\n",
        "print(f'\\nA soma dos números entre {num1} e {num2} é: {soma}')"
      ],
      "metadata": {
        "colab": {
          "base_uri": "https://localhost:8080/"
        },
        "id": "kfaj__1rR5Y8",
        "outputId": "14d6ac91-877c-426e-c8ad-5125158c953c"
      },
      "execution_count": null,
      "outputs": [
        {
          "output_type": "stream",
          "name": "stdout",
          "text": [
            "Digite o 1º número: 1\n",
            "Digite o 2º número: 10\n",
            "2 3 4 5 6 7 8 9 \n",
            "A soma dos números entre 1 e 10 é: 44\n"
          ]
        }
      ]
    },
    {
      "cell_type": "markdown",
      "source": [
        "#4. Exercícios com Listas"
      ],
      "metadata": {
        "id": "hHwvMjOnVQEp"
      }
    },
    {
      "cell_type": "code",
      "source": [
        "#1 Faça um Programa que leia um vetor de 5 números inteiros e mostre-os.\n",
        "\n",
        "lista = []\n",
        "\n",
        "for i in range(1, 6):\n",
        "  lista.append(int(input('Digite o %dº número: ' %i)))\n",
        "print(lista)"
      ],
      "metadata": {
        "colab": {
          "base_uri": "https://localhost:8080/"
        },
        "id": "NvKfUARxVW54",
        "outputId": "6e94c3f6-542c-4ef5-e6b5-8556bb92c495"
      },
      "execution_count": null,
      "outputs": [
        {
          "output_type": "stream",
          "name": "stdout",
          "text": [
            "Digite o 1º número: 10\n",
            "Digite o 2º número: 20\n",
            "Digite o 3º número: 30\n",
            "Digite o 4º número: 40\n",
            "Digite o 5º número: 50\n",
            "[10, 20, 30, 40, 50]\n"
          ]
        }
      ]
    },
    {
      "cell_type": "code",
      "source": [
        "#2 Faça um Programa que leia um vetor de 10 números reais e mostre-os na ordem inversa.\n",
        "\n",
        "lista = []\n",
        "\n",
        "for i in range(1, 6):\n",
        "  lista.append(int(input('Digite o %dº número: ' %i)))\n",
        "print(lista[::-1])"
      ],
      "metadata": {
        "colab": {
          "base_uri": "https://localhost:8080/"
        },
        "id": "mlXnhdZWWTqo",
        "outputId": "a3eed05e-a9ac-48e0-cb6d-cc16a7aa524b"
      },
      "execution_count": null,
      "outputs": [
        {
          "output_type": "stream",
          "name": "stdout",
          "text": [
            "Digite o 1º número: 1\n",
            "Digite o 2º número: 2\n",
            "Digite o 3º número: 3\n",
            "Digite o 4º número: 4\n",
            "Digite o 5º número: 5\n",
            "[5, 4, 3, 2, 1]\n"
          ]
        }
      ]
    },
    {
      "cell_type": "code",
      "source": [
        "#3 Faça um Programa que leia 4 notas, mostre as notas e a média na tela.\n",
        "\n",
        "notas = []\n",
        "media = 0\n",
        "\n",
        "for i in range(1, 5):\n",
        "  media += i\n",
        "  notas.append(float(input('Digite a %dª nota: ' %i)))\n",
        "print(notas)\n",
        "print(f'A média foi de: {media/len(notas):.2f}')"
      ],
      "metadata": {
        "colab": {
          "base_uri": "https://localhost:8080/"
        },
        "id": "jpBDxjZAXm15",
        "outputId": "505054e4-927e-4df6-cff7-f591f488aaef"
      },
      "execution_count": null,
      "outputs": [
        {
          "output_type": "stream",
          "name": "stdout",
          "text": [
            "Digite a 1ª nota: 1\n",
            "Digite a 2ª nota: 2\n",
            "Digite a 3ª nota: 3\n",
            "Digite a 4ª nota: 4\n",
            "[1.0, 2.0, 3.0, 4.0]\n",
            "A média foi de: 2.50\n"
          ]
        }
      ]
    },
    {
      "cell_type": "code",
      "source": [
        "#4 Faça um Programa que leia um vetor de 10 caracteres, e diga quantas consoantes foram lidas. Imprima as consoantes.\n",
        "\n",
        "vogais = 0\n",
        "consoantes = 0\n",
        "\n",
        "while True:\n",
        "  vetor = list(input('Digite uma palavra com 10 caracteres: ').lower())\n",
        "  if len(vetor) != 10:\n",
        "    print('Palavra inválida, digite novamente.')\n",
        "  else:\n",
        "    break\n",
        "for i in range(0, 10):\n",
        "  if vetor[i] in 'aeiou':\n",
        "    vogais += 1\n",
        "  else:\n",
        "    consoantes += 1\n",
        "    consoante = vetor[i]\n",
        "    print(consoante, end=' ')\n",
        "print('\\nA palavra tem %d consoantes' %consoantes)"
      ],
      "metadata": {
        "colab": {
          "base_uri": "https://localhost:8080/"
        },
        "id": "i3wgwx12Zvcs",
        "outputId": "fad45ab4-d28d-4499-c7c5-024ccb2e04ee"
      },
      "execution_count": null,
      "outputs": [
        {
          "output_type": "stream",
          "name": "stdout",
          "text": [
            "Digite uma palavra com 10 caracteres: LucasLucas\n",
            "l c s l c s \n",
            "A palavra tem 6 consoantes\n"
          ]
        }
      ]
    },
    {
      "cell_type": "code",
      "source": [
        "#5 Faça um Programa que leia 20 números inteiros e armazene-os num vetor. Armazene os números pares no vetor PAR e os números IMPARES no vetor impar. Imprima os três vetores.\n",
        "\n",
        "vetor = []\n",
        "par = []\n",
        "impar = []\n",
        "\n",
        "for i in range(1, 21):\n",
        "  numero = int(input('Digite o %dº número inteiro: ' %i))\n",
        "  vetor.append(numero)\n",
        "  if vetor[i - 1] %2 == 0:\n",
        "    par.append(int(vetor[i - 1]))\n",
        "  else:\n",
        "    impar.append(int(vetor[i - 1]))\n",
        "print(vetor)\n",
        "print(par)\n",
        "print(impar)"
      ],
      "metadata": {
        "colab": {
          "base_uri": "https://localhost:8080/"
        },
        "id": "7_mxGwiKiLmj",
        "outputId": "6b01b6c6-b6c2-46fe-94da-5e1058b098f5"
      },
      "execution_count": null,
      "outputs": [
        {
          "output_type": "stream",
          "name": "stdout",
          "text": [
            "Digite o 1º número inteiro: 1\n",
            "Digite o 2º número inteiro: 2\n",
            "Digite o 3º número inteiro: 3\n",
            "Digite o 4º número inteiro: 4\n",
            "Digite o 5º número inteiro: 5\n",
            "Digite o 6º número inteiro: 6\n",
            "Digite o 7º número inteiro: 7\n",
            "Digite o 8º número inteiro: 8\n",
            "Digite o 9º número inteiro: 9\n",
            "Digite o 10º número inteiro: 10\n",
            "Digite o 11º número inteiro: 11\n",
            "Digite o 12º número inteiro: 12\n",
            "Digite o 13º número inteiro: 13\n",
            "Digite o 14º número inteiro: 14\n",
            "Digite o 15º número inteiro: 15\n",
            "Digite o 16º número inteiro: 16\n",
            "Digite o 17º número inteiro: 17\n",
            "Digite o 18º número inteiro: 18\n",
            "Digite o 19º número inteiro: 19\n",
            "Digite o 20º número inteiro: 20\n",
            "[1, 2, 3, 4, 5, 6, 7, 8, 9, 10, 11, 12, 13, 14, 15, 16, 17, 18, 19, 20]\n",
            "[2, 4, 6, 8, 10, 12, 14, 16, 18, 20]\n",
            "[1, 3, 5, 7, 9, 11, 13, 15, 17, 19]\n"
          ]
        }
      ]
    },
    {
      "cell_type": "code",
      "source": [
        "#6 Faça um Programa que peça as quatro notas de 10 alunos, calcule e armazene num vetor a média de cada aluno, imprima o número de alunos com média maior ou igual a 7.0.\n",
        "\n",
        "medias = []\n",
        "aluno = 0\n",
        "\n",
        "for i in range(1,11):\n",
        "  soma, media = 0, 0\n",
        "  print('%dº Aluno' %i)\n",
        "  for j in range(1,5):\n",
        "    nota = float(input('%dª Nota: ' %j))\n",
        "    soma += nota\n",
        "  media = soma / 4\n",
        "  medias.append(media)\n",
        "for k in medias:\n",
        "  if k >= 7:\n",
        "    aluno += 1\n",
        "print(medias)\n",
        "print('O número de alunos com média maior de 7 foi de: %d' %aluno)"
      ],
      "metadata": {
        "colab": {
          "base_uri": "https://localhost:8080/"
        },
        "id": "pf3AzaM9lWKf",
        "outputId": "62ba2868-52bf-40c9-a020-098bce4010d9"
      },
      "execution_count": null,
      "outputs": [
        {
          "output_type": "stream",
          "name": "stdout",
          "text": [
            "1º Aluno\n",
            "1ª Nota: 10\n",
            "2ª Nota: 10\n",
            "3ª Nota: 10\n",
            "4ª Nota: 10\n",
            "2º Aluno\n",
            "1ª Nota: 9\n",
            "2ª Nota: 9\n",
            "3ª Nota: 9\n",
            "4ª Nota: 9\n",
            "3º Aluno\n",
            "1ª Nota: 8\n",
            "2ª Nota: 8\n",
            "3ª Nota: 8\n",
            "4ª Nota: 8\n",
            "4º Aluno\n",
            "1ª Nota: 7\n",
            "2ª Nota: 7\n",
            "3ª Nota: 7\n",
            "4ª Nota: 7\n",
            "5º Aluno\n",
            "1ª Nota: 6\n",
            "2ª Nota: 6\n",
            "3ª Nota: 6\n",
            "4ª Nota: 6\n",
            "6º Aluno\n",
            "1ª Nota: 5\n",
            "2ª Nota: 5\n",
            "3ª Nota: 5\n",
            "4ª Nota: 5\n",
            "7º Aluno\n",
            "1ª Nota: 4\n",
            "2ª Nota: 4\n",
            "3ª Nota: 4\n",
            "4ª Nota: 4\n",
            "8º Aluno\n",
            "1ª Nota: 3\n",
            "2ª Nota: 3\n",
            "3ª Nota: 3\n",
            "4ª Nota: 3\n",
            "9º Aluno\n",
            "1ª Nota: 2\n",
            "2ª Nota: 2\n",
            "3ª Nota: 2\n",
            "4ª Nota: 2\n",
            "10º Aluno\n",
            "1ª Nota: 1\n",
            "2ª Nota: 1\n",
            "3ª Nota: 1\n",
            "4ª Nota: 1\n",
            "[10.0, 9.0, 8.0, 7.0, 6.0, 5.0, 4.0, 3.0, 2.0, 1.0]\n",
            "O número de alunos com média maior de 7 foi de: 4\n"
          ]
        }
      ]
    },
    {
      "cell_type": "code",
      "source": [
        "#7 Faça um Programa que leia um vetor de 5 números inteiros, mostre a soma, a multiplicação e os números.\n",
        "\n",
        "vetor = []\n",
        "multiplicacao = 1\n",
        "soma = 0\n",
        "\n",
        "for i in range(1, 5):\n",
        "  numero = int(input('%dº número inteiro: ' %i))\n",
        "  vetor.append(numero)\n",
        "for j in range(0,4):\n",
        "  soma += vetor[j]\n",
        "  multiplicacao *= vetor[j]\n",
        "print(vetor, soma, multiplicacao)"
      ],
      "metadata": {
        "colab": {
          "base_uri": "https://localhost:8080/"
        },
        "id": "8truIVleveZ4",
        "outputId": "3b264c19-b87b-4270-8993-6c4f8913a9e8"
      },
      "execution_count": null,
      "outputs": [
        {
          "output_type": "stream",
          "name": "stdout",
          "text": [
            "1º número inteiro: 5\n",
            "2º número inteiro: 10\n",
            "3º número inteiro: 15\n",
            "4º número inteiro: 20\n",
            "[5, 10, 15, 20] 50 15000\n"
          ]
        }
      ]
    },
    {
      "cell_type": "markdown",
      "source": [
        "#5. Exercícios Funções"
      ],
      "metadata": {
        "id": "behkWQheGtyl"
      }
    },
    {
      "cell_type": "code",
      "source": [
        "#1 Faça um programa para imprimir:\n",
        "\n",
        "  ##    1\n",
        "  ##    2   2\n",
        "  ##    3   3   3\n",
        "  ##    .....\n",
        "  ##    n   n   n   n   n   n  ... n\n",
        "\n",
        "  ## para um n informado pelo usuário. Use uma função que receba um valor n inteiro e imprima até a n-ésima linha.\n",
        "\n",
        "def lista(n):\n",
        "  return list(str(n) * n)\n",
        "\n",
        "n = int(input('Informe um número inteiro: '))\n",
        "while i <= n:\n",
        "  print(' '.join(lista(i)))\n",
        "  i += 1\n"
      ],
      "metadata": {
        "colab": {
          "base_uri": "https://localhost:8080/"
        },
        "id": "Iq8w74RgG0F_",
        "outputId": "81b183a4-23b0-4eee-d646-a024859b2133"
      },
      "execution_count": null,
      "outputs": [
        {
          "output_type": "stream",
          "name": "stdout",
          "text": [
            "Informe um número inteiro: 5\n",
            "1\n",
            "2 2\n",
            "3 3 3\n",
            "4 4 4 4\n",
            "5 5 5 5 5\n"
          ]
        }
      ]
    },
    {
      "cell_type": "code",
      "source": [
        "#2 Faça um programa para imprimir:\n",
        "\n",
        "  ##    1\n",
        "  ##    1   2\n",
        "  ##    1   2   3\n",
        "  ##    .....\n",
        "  ##    1   2   3   ...  n\n",
        "\n",
        "  ## para um n informado pelo usuário. Use uma função que receba um valor n inteiro imprima até a n-ésima linha.\n",
        "\n",
        "n = int(input('Informe um número inteiro: '))\n",
        "\n",
        "def lista(n):\n",
        "  for i in range(1, n + 1):\n",
        "    lista2 = []\n",
        "    for j in range(i):\n",
        "      lista2.append(str(j + 1))\n",
        "    print(' '.join(lista2))\n",
        "\n",
        "lista(n)"
      ],
      "metadata": {
        "colab": {
          "base_uri": "https://localhost:8080/"
        },
        "id": "hBDyMh4uRRVg",
        "outputId": "67c79888-c2f1-48d8-dc97-6d4940b6371c"
      },
      "execution_count": null,
      "outputs": [
        {
          "output_type": "stream",
          "name": "stdout",
          "text": [
            "Informe um número inteiro: 5\n",
            "1\n",
            "1 2\n",
            "1 2 3\n",
            "1 2 3 4\n",
            "1 2 3 4 5\n"
          ]
        }
      ]
    },
    {
      "cell_type": "code",
      "source": [
        "#3 Faça um programa, com uma função que necessite de três argumentos, e que forneça a soma desses três argumentos.\n",
        "\n",
        "def soma(lista) -> int:\n",
        "  lista = []\n",
        "  for i in range(1, 4):\n",
        "    lista.append(int(input('Digite o %dº número: ' %i)))\n",
        "  return(sum(lista))\n",
        "\n",
        "soma(lista = 0)"
      ],
      "metadata": {
        "colab": {
          "base_uri": "https://localhost:8080/"
        },
        "id": "V9MMSNBtXTEB",
        "outputId": "3043270a-78a3-49d6-a0d0-fd121d7da407"
      },
      "execution_count": null,
      "outputs": [
        {
          "name": "stdout",
          "output_type": "stream",
          "text": [
            "Digite o 1º número: 1\n",
            "Digite o 2º número: 5\n",
            "Digite o 3º número: 2\n"
          ]
        },
        {
          "output_type": "execute_result",
          "data": {
            "text/plain": [
              "8"
            ]
          },
          "metadata": {},
          "execution_count": 6
        }
      ]
    },
    {
      "cell_type": "code",
      "source": [
        "#4 Faça um programa, com uma função que necessite de um argumento. A função retorna o valor de caractere ‘P’, se seu argumento for positivo, e ‘N’, se seu argumento for zero ou negativo.\n",
        "\n",
        "def argumento(a: int) -> str:\n",
        "  if a > 0:\n",
        "    a = 'P'\n",
        "  elif a == 0:\n",
        "    a = 'Zero'\n",
        "  else:\n",
        "    a = 'N'\n",
        "  return a\n",
        "\n",
        "argumento(a = int(input('Digite um número: ')))"
      ],
      "metadata": {
        "colab": {
          "base_uri": "https://localhost:8080/",
          "height": 53
        },
        "id": "CI-9M3R0YtWX",
        "outputId": "41e24806-76c8-4f8c-f25b-25135186a2f2"
      },
      "execution_count": null,
      "outputs": [
        {
          "name": "stdout",
          "output_type": "stream",
          "text": [
            "Digite um número: 5\n"
          ]
        },
        {
          "output_type": "execute_result",
          "data": {
            "text/plain": [
              "'P'"
            ],
            "application/vnd.google.colaboratory.intrinsic+json": {
              "type": "string"
            }
          },
          "metadata": {},
          "execution_count": 24
        }
      ]
    },
    {
      "cell_type": "code",
      "source": [
        "#5 Faça um programa com uma função chamada somaImposto. A função possui dois parâmetros formais: taxaImposto, que é a quantia de imposto sobre vendas expressa em porcentagem e custo, que é o custo de um item antes do imposto. A função “altera” o valor de custo para incluir o imposto sobre vendas.\n",
        "\n",
        "def somaImposto(taxaImposto: float, custo: float) -> float:\n",
        "  custo += (custo * taxaImposto) / 100\n",
        "  return(custo)\n",
        "\n",
        "somaImposto(taxaImposto = float(input('Digite a taxa de imposto: ')), custo = float(input('Digite o custo: ')))"
      ],
      "metadata": {
        "colab": {
          "base_uri": "https://localhost:8080/"
        },
        "id": "yTukY3kOb8QS",
        "outputId": "645abe7e-0be5-4274-9b23-0364b59babf7"
      },
      "execution_count": null,
      "outputs": [
        {
          "name": "stdout",
          "output_type": "stream",
          "text": [
            "Digite a taxa de imposto: 15\n",
            "Digite o custo: 1000\n"
          ]
        },
        {
          "output_type": "execute_result",
          "data": {
            "text/plain": [
              "1150.0"
            ]
          },
          "metadata": {},
          "execution_count": 10
        }
      ]
    },
    {
      "cell_type": "code",
      "source": [
        "#6 Faça um programa que converta da notação de 24 horas para a notação de 12 horas. Por exemplo, o programa deve converter 14:25 em 2:25 P.M. A entrada é dada em dois inteiros. Deve haver pelo menos duas funções: uma para fazer a conversão e uma para a saída. Registre a informação A.M./P.M. como um valor ‘A’ para A.M. e ‘P’ para P.M. Assim, a função para efetuar as conversões terá um parâmetro formal para registrar se é A.M. ou P.M. Inclua um loop que permita que o usuário repita esse cálculo para novos valores de entrada todas as vezes que desejar.\n",
        "\n",
        "def conversao(horas: int, minutos: int) -> int:\n",
        "  horas_12 = [1, 2, 3, 4, 5, 6, 7, 8, 9, 10, 11]\n",
        "  horas_24 = [13, 14, 15, 16, 17, 18, 19, 20, 21, 22, 23]\n",
        "  if (horas >= 13) & (horas < 24):\n",
        "    i = horas_24.index(horas)\n",
        "    hora_convertida = horas_12[i]\n",
        "    return(print(f'Horário: {hora_convertida}:{minutos} P.M.'))\n",
        "  elif horas < 13:\n",
        "    hora_convertida = horas\n",
        "    return(print(f'Horário: {hora_convertida}:{minutos} A.M.'))\n",
        "  else:\n",
        "    return(print('Valor Inválido, por favor, tente novamente.'))\n",
        "\n",
        "while True:\n",
        "  k = int(input('Digite 1 para continuar e 2 para sair: '))\n",
        "  if k == 1:\n",
        "    conversao(horas = int(input('Hora: ')), minutos = int(input('Minuto: ')))\n",
        "  else:\n",
        "    break  "
      ],
      "metadata": {
        "colab": {
          "base_uri": "https://localhost:8080/"
        },
        "id": "hifBUW95f8ga",
        "outputId": "0ffe37cd-848b-4089-a6b7-4a8072e44062"
      },
      "execution_count": null,
      "outputs": [
        {
          "name": "stdout",
          "output_type": "stream",
          "text": [
            "Digite 1 para continuar e 2 para sair: 1\n",
            "Hora: 10\n",
            "Minuto: 45\n",
            "Horário: 10:45 A.M.\n",
            "Digite 1 para continuar e 2 para sair: 2\n"
          ]
        }
      ]
    },
    {
      "cell_type": "markdown",
      "source": [
        "#6. Exercícios com Strings"
      ],
      "metadata": {
        "id": "d9Vus938p_z5"
      }
    },
    {
      "cell_type": "code",
      "source": [
        "#1 Tamanho de strings. Faça um programa que leia 2 strings e informe o conteúdo delas seguido do seu comprimento. Informe também se as duas strings possuem o mesmo comprimento e são iguais ou diferentes no conteúdo.\n",
        "\n",
        "  ## Compara duas strings\n",
        "  ## String 1: Brasil Hexa 2006\n",
        "  ## String 2: Brasil! Hexa 2006!\n",
        "  ## Tamanho de \"Brasil Hexa 2006\": 16 caracteres\n",
        "  ## Tamanho de \"Brasil! Hexa 2006!\": 18 caracteres\n",
        "  ## As duas strings são de tamanhos diferentes.\n",
        "  ## As duas strings possuem conteúdo diferente.\n",
        "\n",
        "def string(frase1: str, frase2: str) -> str:\n",
        "  print('Tamanho de \"' + (frase1) + '\" : ' + str(len(frase1)))\n",
        "  print('Tamanho de \"' + (frase2) + '\" : ' + str(len(frase2)))\n",
        "  if len(frase1) != len(frase2):\n",
        "    print('As duas strings são de tamanhos diferentes.')\n",
        "  else:\n",
        "    print('As duas strings são de tamanhos iguais.')\n",
        "  if frase1 == frase2:\n",
        "    print('As duas strings possuem o mesmo conteúdo.')\n",
        "  else:\n",
        "    print('As duas strings possuem conteúdo diferente.')\n",
        "\n",
        "string(frase1 = str(input('1ª Frase: ')), frase2 = str(input('2ª Frase: ')))"
      ],
      "metadata": {
        "colab": {
          "base_uri": "https://localhost:8080/"
        },
        "id": "xIzPGNSPqDgk",
        "outputId": "dbd5be1c-1171-4fbf-cdb5-f8b68ad81290"
      },
      "execution_count": null,
      "outputs": [
        {
          "output_type": "stream",
          "name": "stdout",
          "text": [
            "1ª Frase: Olá\n",
            "2ª Frase: Tudo bem ?\n",
            "Tamanho de \"Olá\" : 3\n",
            "Tamanho de \"Tudo bem ?\" : 10\n",
            "As duas strings são de tamanhos diferentes.\n",
            "As duas strings possuem conteúdo diferente.\n"
          ]
        }
      ]
    },
    {
      "cell_type": "code",
      "source": [
        "#2 Nome ao contrário em maiúsculas. Faça um programa que permita ao usuário digitar o seu nome e em seguida mostre o nome do usuário de trás para frente utilizando somente letras maiúsculas. Dica: lembre−se que ao informar o nome o usuário pode digitar letras maiúsculas ou minúsculas.\n",
        "\n",
        "nome = str(input('Digite o seu nome: '))\n",
        "print(nome.upper()[::-1])"
      ],
      "metadata": {
        "colab": {
          "base_uri": "https://localhost:8080/"
        },
        "id": "zrkr7GqzuoZx",
        "outputId": "64cdc2ed-9437-468b-a674-9b751ba1d228"
      },
      "execution_count": null,
      "outputs": [
        {
          "output_type": "stream",
          "name": "stdout",
          "text": [
            "Digite o seu nome: Lucas\n",
            "SACUL\n"
          ]
        }
      ]
    },
    {
      "cell_type": "code",
      "source": [
        "#3 Nome na vertical. Faça um programa que solicite o nome do usuário e imprima-o na vertical.\n",
        "\n",
        "  ## F\n",
        "  ## U\n",
        "  ## L\n",
        "  ## A\n",
        "  ## N\n",
        "  ## O\n",
        "\n",
        "nome = str(input('Digite o seu nome: '))\n",
        "for i in nome:\n",
        "  print(i)"
      ],
      "metadata": {
        "colab": {
          "base_uri": "https://localhost:8080/"
        },
        "id": "3q5TbFp0vaEK",
        "outputId": "7208d995-c04b-4d03-ba29-96aef5717b13"
      },
      "execution_count": null,
      "outputs": [
        {
          "output_type": "stream",
          "name": "stdout",
          "text": [
            "Digite o seu nome: Lucas\n",
            "L\n",
            "u\n",
            "c\n",
            "a\n",
            "s\n"
          ]
        }
      ]
    },
    {
      "cell_type": "code",
      "source": [
        "#4 Nome na vertical em escada. Modifique o programa anterior de forma a mostrar o nome em formato de escada.\n",
        "\n",
        "  ## F\n",
        "  ## FU\n",
        "  ## FUL\n",
        "  ## FULA\n",
        "  ## FULAN\n",
        "  ## FULANO\n",
        "\n",
        "nome = str(input('Digite o seu nome: '))\n",
        "for i in range(0, len(nome) + 1):\n",
        "  for j in range(0, i):\n",
        "    print(nome[j], end='')\n",
        "  print('\\n')"
      ],
      "metadata": {
        "colab": {
          "base_uri": "https://localhost:8080/"
        },
        "id": "UiaNC1Mi2LRH",
        "outputId": "6d99384c-3e1c-4685-dd07-4524cc69abad"
      },
      "execution_count": null,
      "outputs": [
        {
          "output_type": "stream",
          "name": "stdout",
          "text": [
            "Digite o seu nome: Lucas\n",
            "\n",
            "\n",
            "L\n",
            "\n",
            "Lu\n",
            "\n",
            "Luc\n",
            "\n",
            "Luca\n",
            "\n",
            "Lucas\n",
            "\n"
          ]
        }
      ]
    },
    {
      "cell_type": "code",
      "source": [
        "#5 Nome na vertical em escada invertida. Altere o programa anterior de modo que a escada seja invertida.\n",
        "\n",
        "# FULANO\n",
        "# FULAN\n",
        "# FULA\n",
        "# FUL\n",
        "# FU\n",
        "# F\n",
        "\n",
        "nome = str(input('Digite o seu nome: '))\n",
        "print(nome)\n",
        "for i in range(1, len(nome)):\n",
        "  print(nome[:-i])"
      ],
      "metadata": {
        "colab": {
          "base_uri": "https://localhost:8080/"
        },
        "id": "6aOwNlK8zmBV",
        "outputId": "9ccef2c8-1990-4b16-ad4b-c83de6efa023"
      },
      "execution_count": null,
      "outputs": [
        {
          "output_type": "stream",
          "name": "stdout",
          "text": [
            "Digite o seu nome: Lucas\n",
            "Lucas\n",
            "Luca\n",
            "Luc\n",
            "Lu\n",
            "L\n"
          ]
        }
      ]
    },
    {
      "cell_type": "code",
      "source": [
        "#6 Data por extenso. Faça um programa que solicite a data de nascimento (dd/mm/aaaa) do usuário e imprima a data com o nome do mês por extenso.\n",
        "\n",
        "  ## Data de Nascimento: 29/10/1973\n",
        "  ## Você nasceu em  29 de Outubro de 1973.\n",
        "\n",
        "data =[]\n",
        "lista = ['1', '2', '3', '4', '5', '6', '7', '8', '9', '10', '11', '12']\n",
        "lista_conversao = ['Janeiro', 'Fevereiro', 'Março', 'Abril', 'Maio', 'Junho', 'Julho', 'Agosto', 'Setembro', 'Outubro', 'Novembro', 'Dezembro']\n",
        "\n",
        "nascimento = str(input('Digite sua data de nascimento (dd/mm/aaaa): '))\n",
        "data = nascimento.split('/')\n",
        "print(data)\n",
        "i = int(data[1])\n",
        "mes = lista_conversao[i - 1]\n",
        "print('Você nasceu em ' + (data[0]) + ' de ' +  (mes) + ' ' + (data[2]) + ' .')"
      ],
      "metadata": {
        "colab": {
          "base_uri": "https://localhost:8080/"
        },
        "id": "ATK7tMgn2DNe",
        "outputId": "7056646b-63e9-4ce5-a18e-92f2249e4bb0"
      },
      "execution_count": null,
      "outputs": [
        {
          "output_type": "stream",
          "name": "stdout",
          "text": [
            "Digite sua data de nascimento (dd/mm/aaaa): 05/09/1997\n",
            "['05', '09', '1997']\n",
            "Você nasceu em 05 de Setembro 1997 .\n"
          ]
        }
      ]
    },
    {
      "cell_type": "markdown",
      "source": [
        "#7. Exercícios Arquivos"
      ],
      "metadata": {
        "id": "cjvYdbX2Nj1j"
      }
    },
    {
      "cell_type": "code",
      "source": [
        "#1 Faça um programa que leia um arquivo texto contendo uma lista de endereços IP e gere um outro arquivo, contendo um relatório dos endereços IP válidos e inválidos.\n",
        "   ## O arquivo de entrada possui o seguinte formato:\n",
        "\n",
        "%%writefile ip.txt\n",
        "200.135.80.9\n",
        "192.168.1.1\n",
        "8.35.67.74\n",
        "257.32.4.5\n",
        "85.345.1.2\n",
        "1.2.3.4\n",
        "9.8.234.5\n",
        "192.168.0.256"
      ],
      "metadata": {
        "colab": {
          "base_uri": "https://localhost:8080/"
        },
        "id": "nIsshn-eNoMn",
        "outputId": "2587691e-9099-4cba-d947-d07a4186bf7c"
      },
      "execution_count": null,
      "outputs": [
        {
          "output_type": "stream",
          "name": "stdout",
          "text": [
            "Writing ip.txt\n"
          ]
        }
      ]
    },
    {
      "cell_type": "code",
      "source": [
        "#1 Continução\n",
        "\n",
        "valido = []\n",
        "invalido = []\n",
        "ip = []\n",
        "\n",
        "with open(file='./ip.txt', mode='r', encoding='utf8') as fp:\n",
        "  with open(file='./ ip_organizado', mode='w', encoding='utf8') as arquivo:\n",
        "    linha = fp.readline().rstrip('\\n')\n",
        "    while linha:\n",
        "      ip.append(linha)\n",
        "      linha = fp.readline().rstrip('\\n')\n",
        "    for i in ip:\n",
        "      if len(i) >= 11:\n",
        "        valido.append(i)\n",
        "      else:\n",
        "        invalido.append(i)\n",
        "    arquivo.write('[Endereços válidos:]\\n')\n",
        "    for j in valido:\n",
        "      arquivo.write(j + '\\n')\n",
        "    arquivo.write('\\n[Endereços inválidos:]\\n')\n",
        "    for k in invalido:\n",
        "      arquivo.write(k + '\\n')"
      ],
      "metadata": {
        "id": "o2Rrsxy4OsYj"
      },
      "execution_count": null,
      "outputs": []
    },
    {
      "cell_type": "code",
      "source": [
        "#2 A ACME Inc., uma empresa de 500 funcionários, está tendo problemas de espaço em disco no seu servidor de arquivos. Para tentar resolver este problema, o Administrador de Rede precisa saber qual o espaço ocupado pelos usuários, e identificar os usuários com maior espaço ocupado. Através de um programa, baixado da Internet, ele conseguiu gerar o seguinte arquivo, chamado \"usuarios.txt\":\n",
        "\n",
        "%%writefile usuarios.txt\n",
        "alexandre       456123789\n",
        "anderson        1245698456\n",
        "antonio         123456456\n",
        "carlos          91257581\n",
        "cesar           987458\n",
        "rosemary        789456125"
      ],
      "metadata": {
        "colab": {
          "base_uri": "https://localhost:8080/"
        },
        "id": "JaIUglxJiD_X",
        "outputId": "907898e7-8ea9-40a8-ced6-f346ecb7192f"
      },
      "execution_count": null,
      "outputs": [
        {
          "output_type": "stream",
          "name": "stdout",
          "text": [
            "Overwriting usuarios.txt\n"
          ]
        }
      ]
    },
    {
      "cell_type": "code",
      "source": [
        "def usuarios(nome_arquivo: str) -> str:\n",
        "  with open(file=nome_arquivo, mode='r', encoding='utf8') as df:\n",
        "    nome_usuarios = []\n",
        "    linha = df.readline().rstrip('\\n')\n",
        "    while linha:\n",
        "      linha_separada = linha.split(' ')\n",
        "      nome_usuarios.append(str(linha_separada[0]))\n",
        "      linha = df.readline().rstrip('\\n')\n",
        "    return nome_usuarios\n",
        "\n",
        "def bytes_megabytes(nome_arquivo: str) -> float:\n",
        "  espaco = []\n",
        "  megabytes = []\n",
        "\n",
        "  with open(file=nome_arquivo, mode='r', encoding='utf8') as fp:\n",
        "    linha = fp.readline().rstrip('\\n')\n",
        "    while linha:\n",
        "      linha_separada = linha.split(' ')\n",
        "      espaco.append(float(linha_separada[-1]))\n",
        "      linha = fp.readline().rstrip('\\n')\n",
        "  megabyte = map(lambda byte: byte * 0.00000095367431640625, espaco)\n",
        "  for i in megabyte:\n",
        "    megabytes.append(i)\n",
        "  return megabytes\n",
        "\n",
        "def percentual_uso(nome_arquivo: str) -> float:\n",
        "  espaco_utilizado = []\n",
        "  espaco_individual = []\n",
        "\n",
        "  with open(file=nome_arquivo, mode='r', encoding='utf8') as arquivo:\n",
        "    linha = arquivo.readline().rstrip('\\n')\n",
        "    while linha:\n",
        "      linha_separada = linha.split(' ')\n",
        "      espaco_utilizado.append(float(linha_separada[-1]))\n",
        "      linha = arquivo.readline().rstrip('\\n')\n",
        "  total = sum(espaco_utilizado)\n",
        "  for conta in espaco_utilizado:\n",
        "    percentual_individual = (conta / total) * 100\n",
        "    espaco_individual.append(percentual_individual)\n",
        "  return espaco_individual\n",
        "\n",
        "def total_utilizado(nome_arquivo: str) -> float:\n",
        "  espaco_utilizado2 = []\n",
        "  with open(file=nome_arquivo, mode='r', encoding='utf8') as arquivo:\n",
        "    linha = arquivo.readline().rstrip('\\n')\n",
        "    while linha:\n",
        "      linha_separada = linha.split(' ')\n",
        "      espaco_utilizado2.append(float(linha_separada[-1]))\n",
        "      linha = arquivo.readline().rstrip('\\n')\n",
        "  total = sum(espaco_utilizado2)\n",
        "  return total"
      ],
      "metadata": {
        "id": "TkAQacrww7f4"
      },
      "execution_count": null,
      "outputs": []
    },
    {
      "cell_type": "code",
      "source": [
        "with open(file='./relatório.txt', mode='w', encoding='utf8') as programa:\n",
        "  programa.write('ACME Inc.               Uso do espaço em disco pelos usuários\\n')\n",
        "  programa.write('------------------------------------------------------------------------\\n')\n",
        "  programa.write('Nr.  Usuário        Espaço utilizado     % do uso')\n",
        "  usuario = usuarios(nome_arquivo='./usuarios.txt')\n",
        "  utilizado = bytes_megabytes(nome_arquivo='./usuarios.txt')\n",
        "  percentual = percentual_uso(nome_arquivo='./usuarios.txt')\n",
        "  for j in range(0, len(usuario)):\n",
        "    k = 1 + j\n",
        "    x = usuario[j]\n",
        "    y = utilizado[j]\n",
        "    yy = round(y, 2)\n",
        "    z = percentual[j]\n",
        "    zz = round(z, 2)\n",
        "    round(y, 2)\n",
        "    programa.write(f'\\n{k}   {x}        {yy} MB           {zz}%')\n",
        "  total_sistema = total_utilizado(nome_arquivo='./usuarios.txt')\n",
        "  total_sistema *= 0.00000095367431640625\n",
        "  media_sistema = total_sistema / len(usuario)\n",
        "  programa.write('\\nEspaço total ocupado: %d\\nEspaço médio ocupado: %d' %(total_sistema, media_sistema))\n"
      ],
      "metadata": {
        "id": "Vm-vrxQAAtHE"
      },
      "execution_count": null,
      "outputs": []
    },
    {
      "cell_type": "markdown",
      "source": [
        "#8. Exercícios Classes"
      ],
      "metadata": {
        "id": "-UD8BDQ6ZLte"
      }
    },
    {
      "cell_type": "code",
      "source": [
        "#1 Classe Bola: Crie uma classe que modele uma bola:\n",
        "\n",
        "  ## Atributos: Cor, circunferência, material\n",
        "  ## Métodos: trocaCor e mostraCor\n",
        "\n",
        "class Bola(object):\n",
        "\n",
        "  def __init__(self, cor: str, circunferencia: str, material: str):\n",
        "    self.cor = cor\n",
        "    self.circunferencia = circunferencia\n",
        "    self.material = material\n",
        "\n",
        "  def troca_cor(self, cor: str) -> str:\n",
        "    self.cor = cor\n",
        "\n",
        "  def mostra_cor(self) -> str:\n",
        "    return f'A cor da bola é {self.cor}.'\n",
        "\n",
        "  def __str__(self) -> str:\n",
        "    return f'A bola é da cor {self.cor}, tem {self.circunferencia} cm de circunferencia e seu material é {self.material}.'\n",
        "\n",
        "bola1 = Bola(cor = 'Azul', circunferencia = '10', material = 'couro')\n",
        "print(bola1)\n",
        "bola1.troca_cor(cor = 'Vermelha')\n",
        "bola1.mostra_cor()"
      ],
      "metadata": {
        "colab": {
          "base_uri": "https://localhost:8080/",
          "height": 53
        },
        "id": "CiHl1aiOZRJB",
        "outputId": "451efb4e-1246-4b10-dd7c-ed38d6808155"
      },
      "execution_count": null,
      "outputs": [
        {
          "output_type": "stream",
          "name": "stdout",
          "text": [
            "A bola é da cor Azul, tem 10 cm de circunferencia e seu material é couro.\n"
          ]
        },
        {
          "output_type": "execute_result",
          "data": {
            "text/plain": [
              "'A cor da bola é Vermelha.'"
            ],
            "application/vnd.google.colaboratory.intrinsic+json": {
              "type": "string"
            }
          },
          "metadata": {},
          "execution_count": 10
        }
      ]
    },
    {
      "cell_type": "code",
      "source": [
        "#2 Classe Quadrado: Crie uma classe que modele um quadrado:\n",
        "\n",
        "  ## Atributos: Tamanho do lado\n",
        "  ## Métodos: Mudar valor do Lado, Retornar valor do Lado e calcular Área;\n",
        "\n",
        "class Quadrado(object):\n",
        "\n",
        "  def __init__(self, tamanho_do_lado: float):\n",
        "    self.tamanho_do_lado = tamanho_do_lado\n",
        "\n",
        "  def novo_tamanho(self, tamanho_do_lado: float) -> float:\n",
        "    self.tamanho_do_lado = tamanho_do_lado\n",
        "\n",
        "  def valor_do_lado(self) -> float:\n",
        "    return f'O lado do quadrado mede: {self.tamanho_do_lado}'\n",
        "\n",
        "  def area(self) -> float:\n",
        "    self.calculo = self.tamanho_do_lado * self.tamanho_do_lado\n",
        "    return f'Área do quadrado: {self.calculo}'\n",
        "\n",
        "  def __str__(self) -> str:\n",
        "    return f'O quadrado tem lado igual a {self.tamanho_do_lado}'\n",
        "\n",
        "quadrado1 = Quadrado(tamanho_do_lado = 5)\n",
        "print(quadrado1)\n",
        "print(quadrado1.area())\n",
        "print(quadrado1.valor_do_lado())\n",
        "quadrado1.novo_tamanho(tamanho_do_lado = 3)\n",
        "print(quadrado1)\n",
        "print(quadrado1.area())\n",
        "print(quadrado1.valor_do_lado())"
      ],
      "metadata": {
        "colab": {
          "base_uri": "https://localhost:8080/"
        },
        "id": "lyj4fWv7hLH5",
        "outputId": "cf54b9b0-fd6b-486b-d92d-74e48f76e59d"
      },
      "execution_count": null,
      "outputs": [
        {
          "output_type": "stream",
          "name": "stdout",
          "text": [
            "O quadrado tem lado igual a 5\n",
            "Área do quadrado: 25\n",
            "O lado do quadrado mede: 5\n",
            "O quadrado tem lado igual a 3\n",
            "Área do quadrado: 9\n",
            "O lado do quadrado mede: 3\n"
          ]
        }
      ]
    },
    {
      "cell_type": "code",
      "source": [
        "#3 Classe Retangulo: Crie uma classe que modele um retangulo:\n",
        "\n",
        "  ## Atributos: LadoA, LadoB (ou Comprimento e Largura, ou Base e Altura, a escolher)\n",
        "  ## Métodos: Mudar valor dos lados, Retornar valor dos lados, calcular Área e calcular Perímetro;\n",
        "\n",
        "  ## Crie um programa que utilize esta classe. Ele deve pedir ao usuário que informe as medidades de um local. Depois, deve criar um objeto com as medidas e calcular a quantidade de pisos e de rodapés necessárias para o local.\n",
        "\n",
        "class Retangulo(object):\n",
        "\n",
        "  def __init__(self, base: float, altura: float):\n",
        "    self.base = base\n",
        "    self.altura = altura\n",
        "\n",
        "  def muda_valor(self, base: float, altura: float) -> float:\n",
        "    self.base = base\n",
        "    self.altura = altura\n",
        "  \n",
        "  def valor(self) -> str:\n",
        "    return f'Base: {self.base}\\nAltura: {self.altura}'\n",
        "  \n",
        "  def area(self) -> float:\n",
        "    self.calculo_area = self.base * self.altura\n",
        "    return self.calculo_area\n",
        "\n",
        "  def perimetro(self) -> float:\n",
        "    self.calculo_perimetro = 2*(self.altura + self.base)\n",
        "    return self.calculo_perimetro\n",
        "    \n",
        "  def __str__(self) -> str:\n",
        "    return f'O retângulo tem\\nBase: {self.base}\\nAltura: {self.altura}'\n",
        "\n",
        "comprimento_local = float(input('Digite o comprimento do local: '))\n",
        "largura_local = float(input('Digite a largura do local: '))\n",
        "local = Retangulo(comprimento_local, largura_local)\n",
        "print(local)\n",
        "print(local.area())\n",
        "print(local.perimetro())"
      ],
      "metadata": {
        "colab": {
          "base_uri": "https://localhost:8080/"
        },
        "id": "Q7fAwWIpqJ9J",
        "outputId": "9d1669f7-bed9-4059-fcb3-95fa631d6357"
      },
      "execution_count": null,
      "outputs": [
        {
          "output_type": "stream",
          "name": "stdout",
          "text": [
            "Digite o comprimento do local: 5\n",
            "Digite a largura do local: 2\n",
            "O retângulo tem\n",
            "Base: 5.0\n",
            "Altura: 2.0\n",
            "10.0\n",
            "14.0\n"
          ]
        }
      ]
    },
    {
      "cell_type": "code",
      "source": [
        "#4 Classe Pessoa: Crie uma classe que modele uma pessoa:\n",
        "\n",
        "  ## Atributos: nome, idade, peso e altura\n",
        "  ## Métodos: Envelhercer, engordar, emagrecer, crescer. Obs: Por padrão, a cada ano que nossa pessoa envelhece, sendo a idade dela menor que 21 anos, ela deve crescer 0,5 cm.\n",
        "\n",
        "class Pessoa(object):\n",
        "\n",
        "  def __init__(self, nome: str, idade: int, peso: float, altura: int):\n",
        "    self.nome = nome\n",
        "    self.idade = idade\n",
        "    self.peso = peso\n",
        "    self.altura = altura\n",
        "\n",
        "  def envelhecer(self, anos) -> int:\n",
        "    self.idade += anos\n",
        "    if self.idade < 21:\n",
        "      self.altura = self.altura + (0.5 * anos)\n",
        "  \n",
        "  def crescer(self, altura) -> int:\n",
        "    self.altura += altura\n",
        "\n",
        "  def engordar(self, peso) -> float:\n",
        "    self.peso += peso\n",
        "\n",
        "  def emagrecer(self, peso) -> float:\n",
        "    self.peso -= peso\n",
        "  \n",
        "  def __str__(self) -> str:\n",
        "    return f'{self.nome} tem {self.idade} anos, pesa {self.peso}kg e tem {self.altura}cm'\n",
        "\n",
        "antonio = Pessoa(nome = 'Antonio', idade = 15, peso = 65, altura = 160)\n",
        "print(antonio)\n",
        "antonio.envelhecer(anos = 1)\n",
        "print(antonio)\n",
        "antonio.crescer(altura = 2)\n",
        "print(antonio)\n",
        "antonio.engordar(peso = 2)\n",
        "print(antonio)\n",
        "antonio.emagrecer(peso = 4)\n",
        "print(antonio)\n",
        "antonio.envelhecer(anos = 2)\n",
        "print(antonio)"
      ],
      "metadata": {
        "colab": {
          "base_uri": "https://localhost:8080/"
        },
        "id": "zOVKQBk-y3ls",
        "outputId": "52ed20c7-2f49-4a55-f124-5017d3f0e91b"
      },
      "execution_count": null,
      "outputs": [
        {
          "output_type": "stream",
          "name": "stdout",
          "text": [
            "Antonio tem 15 anos, pesa 65kg e tem 160cm\n",
            "Antonio tem 16 anos, pesa 65kg e tem 160.5cm\n",
            "Antonio tem 16 anos, pesa 65kg e tem 162.5cm\n",
            "Antonio tem 16 anos, pesa 67kg e tem 162.5cm\n",
            "Antonio tem 16 anos, pesa 63kg e tem 162.5cm\n",
            "Antonio tem 18 anos, pesa 63kg e tem 163.5cm\n"
          ]
        }
      ]
    },
    {
      "cell_type": "code",
      "source": [
        "#5 Classe Conta Corrente: Crie uma classe para implementar uma conta corrente. A classe deve possuir os seguintes atributos: número da conta, nome do correntista e saldo. Os métodos são os seguintes: alterarNome, depósito e saque; No construtor, saldo é opcional, com valor default zero e os demais atributos são obrigatórios.\n",
        "\n",
        "class ContaCorrente(object):\n",
        "\n",
        "  def __init__(self, conta: int, saldo: float, nome: str):\n",
        "    self.conta = conta\n",
        "    self.saldo = saldo\n",
        "    self.nome = nome\n",
        "\n",
        "  def deposito(self, valor: float) -> float:\n",
        "    if valor > 0:\n",
        "      self.saldo += valor\n",
        "  \n",
        "  def saque(self, valor: int) -> float:\n",
        "    if valor > 0:\n",
        "      self.saldo -= valor\n",
        "  \n",
        "  def alterar_nome(self, nome: str) -> str:\n",
        "    self.nome = nome\n",
        "  \n",
        "  def __str__(self) -> str:\n",
        "    return f'Correntista: {self.nome}\\nSaldo: {self.saldo}\\nConta nº {self.conta}\\n'\n",
        "\n",
        "antonio = ContaCorrente(conta = 12345, saldo = 1000, nome = 'Antonio')\n",
        "print(antonio)\n",
        "\n",
        "antonio.deposito(valor = 2000)\n",
        "print(antonio)\n",
        "antonio.saque(valor = 500)\n",
        "print(antonio)\n",
        "antonio.alterar_nome(nome = 'Antonio Joaquim')\n",
        "print(antonio)"
      ],
      "metadata": {
        "colab": {
          "base_uri": "https://localhost:8080/"
        },
        "id": "8tCibr4U5Z1b",
        "outputId": "dfa416f6-a2be-41a3-bcc7-8d8c29065e40"
      },
      "execution_count": null,
      "outputs": [
        {
          "output_type": "stream",
          "name": "stdout",
          "text": [
            "Correntista: Antonio\n",
            "Saldo: 1000\n",
            "Conta nº 12345\n",
            "\n",
            "Correntista: Antonio\n",
            "Saldo: 3000\n",
            "Conta nº 12345\n",
            "\n",
            "Correntista: Antonio\n",
            "Saldo: 2500\n",
            "Conta nº 12345\n",
            "\n",
            "Correntista: Antonio Joaquim\n",
            "Saldo: 2500\n",
            "Conta nº 12345\n",
            "\n"
          ]
        }
      ]
    },
    {
      "cell_type": "code",
      "source": [
        "#6 Classe TV: Faça um programa que simule um televisor criando-o como um objeto. O usuário deve ser capaz de informar o número do canal e aumentar ou diminuir o volume. Certifique-se de que o número do canal e o nível do volume permanecem dentro de faixas válidas.\n",
        "\n",
        "class Tv(object):\n",
        "\n",
        "  def __init__(self, canal: int, volume: int):\n",
        "    self.canal = canal\n",
        "    self. volume = volume\n",
        "\n",
        "  def trocar_canal(self, canal: int):\n",
        "    if (canal > 0) & (canal < 100):\n",
        "      self.canal = canal\n",
        "    else:\n",
        "      print('Canal Inválido')\n",
        "  \n",
        "  def alterar_volume(self, volume: int):\n",
        "    if (volume > 0) & (volume < 100):\n",
        "      self.volume = volume\n",
        "    else:\n",
        "      print('Volume Inválido')\n",
        "  \n",
        "  def __str__(self) -> str:\n",
        "    return f'Canal: {self.canal}\\nVolume: {self.volume}\\n'\n",
        "\n",
        "televisao = Tv(canal = 40, volume = 20)\n",
        "print(televisao)\n",
        "televisao.trocar_canal(canal = 60)\n",
        "print(televisao)\n",
        "televisao.alterar_volume(volume = 30)\n",
        "print(televisao)"
      ],
      "metadata": {
        "colab": {
          "base_uri": "https://localhost:8080/"
        },
        "id": "DUbEfbEP8lAL",
        "outputId": "6660787c-4737-49c6-8968-03b6d97e96ea"
      },
      "execution_count": null,
      "outputs": [
        {
          "output_type": "stream",
          "name": "stdout",
          "text": [
            "Canal: 40\n",
            "Volume: 20\n",
            "\n",
            "Canal: 60\n",
            "Volume: 20\n",
            "\n",
            "Canal: 60\n",
            "Volume: 30\n",
            "\n"
          ]
        }
      ]
    },
    {
      "cell_type": "code",
      "source": [
        "#7 Classe Bichinho Virtual:Crie uma classe que modele um Tamagushi (Bichinho Eletrônico):\n",
        "\n",
        "  ## Atributos: Nome, Fome, Saúde e Idade b. Métodos: Alterar Nome, Fome, Saúde e Idade; Retornar Nome, Fome, Saúde e Idade Obs: Existe mais uma informação que devemos levar em consideração, o Humor do nosso tamagushi, este humor é uma combinação entre os atributos Fome e Saúde, ou seja, um campo calculado, então não devemos criar um atributo para armazenar esta informação por que ela pode ser calculada a qualquer momento.\n",
        "\n",
        "class BichinhoVirtual(object):\n",
        "\n",
        "  def __init__(self, nome: str, fome: int, saude: int, idade: int):\n",
        "    self.nome = nome\n",
        "    self.fome = fome\n",
        "    self.saude = saude\n",
        "    self.idade = idade\n",
        "\n",
        "  def setnome(self) -> str:\n",
        "    return self.nome\n",
        "\n",
        "  def setfome(self) -> int:\n",
        "    return self.fome\n",
        "\n",
        "  def setsaude(self) -> int:\n",
        "    return self.saude\n",
        "\n",
        "  def setidade(self) -> int:\n",
        "    return self.idade\n",
        "  \n",
        "  def humor(self) -> float:\n",
        "    self.humor = (self.saude * self.fome) / 1000\n",
        "    return self.humor\n",
        "  \n",
        "  def __str__(self) -> str:\n",
        "    return f'Nome: {self.nome}\\nFome: {self.fome}\\nSaude: {self.saude}\\nIdade: {self.idade}\\n Humor:{self.humor}\\n'\n",
        "\n",
        "tamagushi = BichinhoVirtual(nome = 'Tamagushi', fome = 100, saude = 100, idade = 1)\n",
        "print(tamagushi)\n",
        "print(tamagushi.setnome())\n",
        "print(tamagushi.setfome())\n",
        "print(tamagushi.setsaude())\n",
        "print(tamagushi.setidade())\n",
        "tamagushi.humor()"
      ],
      "metadata": {
        "colab": {
          "base_uri": "https://localhost:8080/"
        },
        "id": "H5Ky8jsY-uKO",
        "outputId": "e509cdf1-202a-4cd7-ab3f-e59d9503dee8"
      },
      "execution_count": null,
      "outputs": [
        {
          "output_type": "stream",
          "name": "stdout",
          "text": [
            "Nome: Tamagushi\n",
            "Fome: 100\n",
            "Saude: 100\n",
            "Idade: 1\n",
            " Humor:<bound method BichinhoVirtual.humor of <__main__.BichinhoVirtual object at 0x7f2189317790>>\n",
            "\n",
            "Tamagushi\n",
            "100\n",
            "100\n",
            "1\n"
          ]
        },
        {
          "output_type": "execute_result",
          "data": {
            "text/plain": [
              "10.0"
            ]
          },
          "metadata": {},
          "execution_count": 106
        }
      ]
    }
  ]
}